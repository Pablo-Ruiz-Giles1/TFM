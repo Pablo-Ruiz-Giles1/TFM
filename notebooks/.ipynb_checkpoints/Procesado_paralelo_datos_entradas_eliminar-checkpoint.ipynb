{
 "cells": [
  {
   "cell_type": "markdown",
   "metadata": {},
   "source": [
    "![](files/images/EscUpmPolit_p.gif \"UPM\")"
   ]
  },
  {
   "cell_type": "markdown",
   "metadata": {},
   "source": [
    "<header style=\"width:100%;position:relative\">\n",
    "  <div style=\"width:80%;float:right;\">\n",
    "    <h1>Procesado de datos de Blockchain</h1>\n",
    "    <h3>TFM</h3>\n",
    "    <h5>Universidad Politécnica de Madrid. © Pablo Ruiz Giles </h5>\n",
    "  </div>\n",
    "        <img style=\"width:15%;\" src=\"../logo.jpg\" alt=\"UPM\" />\n",
    "</header>"
   ]
  },
  {
   "cell_type": "markdown",
   "metadata": {},
   "source": [
    "# Cargamos los datasets"
   ]
  },
  {
   "cell_type": "markdown",
   "metadata": {},
   "source": [
    "### Importamos paralelo_ganache"
   ]
  },
  {
   "cell_type": "code",
   "execution_count": 11,
   "metadata": {},
   "outputs": [
    {
     "name": "stdout",
     "output_type": "stream",
     "text": [
      "Los siguientes DataFrames se han creado:\n",
      "paralelo_ganache_resumen1\n",
      "paralelo_ganache_resumen2\n",
      "paralelo_ganache_resumen3\n",
      "paralelo_ganache_total\n",
      "paralelo_ganachedatos1\n",
      "paralelo_ganachedatos2\n",
      "paralelo_ganachedatos3\n"
     ]
    }
   ],
   "source": [
    "import numpy as np\n",
    "import pandas as pd\n",
    "import os\n",
    "\n",
    "# Obtener la lista de archivos CSV en la carpeta datos/paralelo_ganache/\n",
    "csv_files = [f for f in os.listdir('datos/paralelo_ganache/') if f.endswith('.csv')]\n",
    "\n",
    "# Leer cada archivo CSV y asignarlo a una variable\n",
    "for f in csv_files:\n",
    "    # Obtener el nombre del archivo sin la extensión\n",
    "    name = os.path.splitext(f)[0]\n",
    "    # Leer el archivo CSV y asignarlo a una variable con el nombre del archivo\n",
    "    vars()[name] = pd.read_csv(os.path.join('datos/paralelo_ganache/', f))\n",
    "\n",
    "# Imprimir los nombres de las variables creadas que empiezan con \"paralelo_ganache\"\n",
    "print(\"Los siguientes DataFrames se han creado:\")\n",
    "for var in sorted(vars()):\n",
    "    if var.startswith('paralelo_ganache'):\n",
    "        print(var)\n"
   ]
  },
  {
   "cell_type": "markdown",
   "metadata": {},
   "source": [
    "### Importamos paralelo_3_ganache"
   ]
  },
  {
   "cell_type": "code",
   "execution_count": 12,
   "metadata": {},
   "outputs": [
    {
     "name": "stdout",
     "output_type": "stream",
     "text": [
      "Los siguientes DataFrames se han creado:\n",
      "paralelo_3_ganache_resumen1\n",
      "paralelo_3_ganache_resumen2\n",
      "paralelo_3_ganache_resumen3\n",
      "paralelo_3_ganache_total\n",
      "paralelo_3_ganachedatos1\n",
      "paralelo_3_ganachedatos2\n",
      "paralelo_3_ganachedatos3\n"
     ]
    }
   ],
   "source": [
    "import numpy as np\n",
    "import pandas as pd\n",
    "import os\n",
    "\n",
    "# Obtener la lista de archivos CSV en la carpeta datos/paralelo_ganache/\n",
    "csv_files = [f for f in os.listdir('datos/paralelo_3_ganache/') if f.endswith('.csv')]\n",
    "\n",
    "# Leer cada archivo CSV y asignarlo a una variable\n",
    "for f in csv_files:\n",
    "    # Obtener el nombre del archivo sin la extensión\n",
    "    name = os.path.splitext(f)[0]\n",
    "    # Leer el archivo CSV y asignarlo a una variable con el nombre del archivo\n",
    "    vars()[name] = pd.read_csv(os.path.join('datos/paralelo_3_ganache/', f))\n",
    "\n",
    "# Imprimir los nombres de las variables creadas que empiezan con \"paralelo_ganache\"\n",
    "print(\"Los siguientes DataFrames se han creado:\")\n",
    "for var in sorted(vars()):\n",
    "    if var.startswith('paralelo_3_ganache'):\n",
    "        print(var)\n"
   ]
  },
  {
   "cell_type": "code",
   "execution_count": 13,
   "metadata": {},
   "outputs": [
    {
     "data": {
      "text/html": [
       "<div>\n",
       "<style scoped>\n",
       "    .dataframe tbody tr th:only-of-type {\n",
       "        vertical-align: middle;\n",
       "    }\n",
       "\n",
       "    .dataframe tbody tr th {\n",
       "        vertical-align: top;\n",
       "    }\n",
       "\n",
       "    .dataframe thead th {\n",
       "        text-align: right;\n",
       "    }\n",
       "</style>\n",
       "<table border=\"1\" class=\"dataframe\">\n",
       "  <thead>\n",
       "    <tr style=\"text-align: right;\">\n",
       "      <th></th>\n",
       "      <th>Creadas</th>\n",
       "      <th>Coste en gas (wei)</th>\n",
       "      <th>Coste en ether</th>\n",
       "      <th>Empezar</th>\n",
       "      <th>Acabar</th>\n",
       "      <th>Duracion</th>\n",
       "    </tr>\n",
       "  </thead>\n",
       "  <tbody>\n",
       "    <tr>\n",
       "      <th>0</th>\n",
       "      <td>81</td>\n",
       "      <td>277276272373125</td>\n",
       "      <td>0.000277</td>\n",
       "      <td>35</td>\n",
       "      <td>86884</td>\n",
       "      <td>86849</td>\n",
       "    </tr>\n",
       "  </tbody>\n",
       "</table>\n",
       "</div>"
      ],
      "text/plain": [
       "   Creadas  Coste en gas (wei)  Coste en ether  Empezar  Acabar  Duracion\n",
       "0       81     277276272373125        0.000277       35   86884     86849"
      ]
     },
     "execution_count": 13,
     "metadata": {},
     "output_type": "execute_result"
    }
   ],
   "source": [
    "paralelo_3_ganache_total"
   ]
  },
  {
   "cell_type": "code",
   "execution_count": 14,
   "metadata": {},
   "outputs": [
    {
     "data": {
      "text/html": [
       "<div>\n",
       "<style scoped>\n",
       "    .dataframe tbody tr th:only-of-type {\n",
       "        vertical-align: middle;\n",
       "    }\n",
       "\n",
       "    .dataframe tbody tr th {\n",
       "        vertical-align: top;\n",
       "    }\n",
       "\n",
       "    .dataframe thead th {\n",
       "        text-align: right;\n",
       "    }\n",
       "</style>\n",
       "<table border=\"1\" class=\"dataframe\">\n",
       "  <thead>\n",
       "    <tr style=\"text-align: right;\">\n",
       "      <th></th>\n",
       "      <th>Antes</th>\n",
       "      <th>Despues</th>\n",
       "      <th>Duración</th>\n",
       "      <th>Transacciones</th>\n",
       "      <th>Coste Total</th>\n",
       "    </tr>\n",
       "  </thead>\n",
       "  <tbody>\n",
       "    <tr>\n",
       "      <th>0</th>\n",
       "      <td>39396</td>\n",
       "      <td>86884</td>\n",
       "      <td>47488</td>\n",
       "      <td>1</td>\n",
       "      <td>0.000001</td>\n",
       "    </tr>\n",
       "  </tbody>\n",
       "</table>\n",
       "</div>"
      ],
      "text/plain": [
       "   Antes  Despues  Duración  Transacciones  Coste Total\n",
       "0  39396    86884     47488              1     0.000001"
      ]
     },
     "execution_count": 14,
     "metadata": {},
     "output_type": "execute_result"
    }
   ],
   "source": [
    "paralelo_3_ganache_resumen3"
   ]
  },
  {
   "cell_type": "code",
   "execution_count": 15,
   "metadata": {
    "scrolled": true
   },
   "outputs": [
    {
     "data": {
      "text/html": [
       "<div>\n",
       "<style scoped>\n",
       "    .dataframe tbody tr th:only-of-type {\n",
       "        vertical-align: middle;\n",
       "    }\n",
       "\n",
       "    .dataframe tbody tr th {\n",
       "        vertical-align: top;\n",
       "    }\n",
       "\n",
       "    .dataframe thead th {\n",
       "        text-align: right;\n",
       "    }\n",
       "</style>\n",
       "<table border=\"1\" class=\"dataframe\">\n",
       "  <thead>\n",
       "    <tr style=\"text-align: right;\">\n",
       "      <th></th>\n",
       "      <th>Transacción</th>\n",
       "      <th>Estado</th>\n",
       "      <th>Gas utilizado</th>\n",
       "      <th>Coste en wei</th>\n",
       "      <th>Bloque</th>\n",
       "      <th>Tiempo</th>\n",
       "    </tr>\n",
       "  </thead>\n",
       "  <tbody>\n",
       "    <tr>\n",
       "      <th>0</th>\n",
       "      <td>0x9acf0e4a243c6aaad4c0ff4834959e4c6b29b81c28b6...</td>\n",
       "      <td>True</td>\n",
       "      <td>0x3895</td>\n",
       "      <td>0.000001</td>\n",
       "      <td>347</td>\n",
       "      <td>01:37:51</td>\n",
       "    </tr>\n",
       "  </tbody>\n",
       "</table>\n",
       "</div>"
      ],
      "text/plain": [
       "                                         Transacción  Estado Gas utilizado  \\\n",
       "0  0x9acf0e4a243c6aaad4c0ff4834959e4c6b29b81c28b6...    True        0x3895   \n",
       "\n",
       "   Coste en wei  Bloque    Tiempo  \n",
       "0      0.000001     347  01:37:51  "
      ]
     },
     "execution_count": 15,
     "metadata": {},
     "output_type": "execute_result"
    }
   ],
   "source": [
    "paralelo_3_ganachedatos3"
   ]
  },
  {
   "cell_type": "markdown",
   "metadata": {},
   "source": [
    "# Preprocesamos"
   ]
  },
  {
   "cell_type": "markdown",
   "metadata": {},
   "source": [
    "### Añadimos columna que sea la diferencia de tiempos entre transacciones"
   ]
  },
  {
   "cell_type": "code",
   "execution_count": 16,
   "metadata": {},
   "outputs": [],
   "source": [
    "# Crear una lista con los nombres de los datasets\n",
    "datasets = [\"paralelo_3_ganachedatos1\", \"paralelo_3_ganachedatos2\", \"paralelo_3_ganachedatos3\",\"paralelo_ganachedatos1\", \"paralelo_ganachedatos2\", \"paralelo_ganachedatos3\"]\n",
    "\n",
    "# Iterar sobre la lista de nombres de datasets\n",
    "for dataset in datasets:\n",
    "    # Convertir la columna \"Tiempo\" a tipo datetime\n",
    "    globals()[dataset][\"Tiempo\"] = pd.to_datetime(globals()[dataset][\"Tiempo\"])\n",
    "\n",
    "    # Calcular la diferencia de tiempo entre cada fila y la anterior, en segundos\n",
    "    globals()[dataset][\"Diferencia de tiempo\"] = (globals()[dataset][\"Tiempo\"] - globals()[dataset][\"Tiempo\"].shift(1)).dt.total_seconds()\n",
    "\n",
    "    # Calcular la media de la columna \"Diferencia de tiempo\"\n",
    "    media_diferencia_tiempo = globals()[dataset][\"Diferencia de tiempo\"].mean()\n",
    "\n",
    "    # Reemplazar los valores NaN con la media de las otras filas\n",
    "    globals()[dataset][\"Diferencia de tiempo\"].fillna(media_diferencia_tiempo, inplace=True)\n"
   ]
  },
  {
   "cell_type": "code",
   "execution_count": 17,
   "metadata": {
    "scrolled": true
   },
   "outputs": [
    {
     "data": {
      "text/html": [
       "<div>\n",
       "<style scoped>\n",
       "    .dataframe tbody tr th:only-of-type {\n",
       "        vertical-align: middle;\n",
       "    }\n",
       "\n",
       "    .dataframe tbody tr th {\n",
       "        vertical-align: top;\n",
       "    }\n",
       "\n",
       "    .dataframe thead th {\n",
       "        text-align: right;\n",
       "    }\n",
       "</style>\n",
       "<table border=\"1\" class=\"dataframe\">\n",
       "  <thead>\n",
       "    <tr style=\"text-align: right;\">\n",
       "      <th></th>\n",
       "      <th>Transacción</th>\n",
       "      <th>Estado</th>\n",
       "      <th>Gas utilizado</th>\n",
       "      <th>Coste en wei</th>\n",
       "      <th>Bloque</th>\n",
       "      <th>Tiempo</th>\n",
       "      <th>Diferencia de tiempo</th>\n",
       "    </tr>\n",
       "  </thead>\n",
       "  <tbody>\n",
       "    <tr>\n",
       "      <th>0</th>\n",
       "      <td>0x9acf0e4a243c6aaad4c0ff4834959e4c6b29b81c28b6...</td>\n",
       "      <td>True</td>\n",
       "      <td>0x3895</td>\n",
       "      <td>0.000001</td>\n",
       "      <td>347</td>\n",
       "      <td>2023-04-13 01:37:51</td>\n",
       "      <td>NaN</td>\n",
       "    </tr>\n",
       "  </tbody>\n",
       "</table>\n",
       "</div>"
      ],
      "text/plain": [
       "                                         Transacción  Estado Gas utilizado  \\\n",
       "0  0x9acf0e4a243c6aaad4c0ff4834959e4c6b29b81c28b6...    True        0x3895   \n",
       "\n",
       "   Coste en wei  Bloque              Tiempo  Diferencia de tiempo  \n",
       "0      0.000001     347 2023-04-13 01:37:51                   NaN  "
      ]
     },
     "execution_count": 17,
     "metadata": {},
     "output_type": "execute_result"
    }
   ],
   "source": [
    "paralelo_3_ganachedatos3"
   ]
  },
  {
   "cell_type": "markdown",
   "metadata": {},
   "source": [
    "### Pasamos de hexadecimal a decimal Gas utilizado"
   ]
  },
  {
   "cell_type": "code",
   "execution_count": 18,
   "metadata": {},
   "outputs": [
    {
     "name": "stdout",
     "output_type": "stream",
     "text": [
      "                                         Transacción  Estado  Gas utilizado  \\\n",
      "0  0x5562323d592a18dd82cf25ffd0e99875a802b1e2b690...    True          68394   \n",
      "1  0x49632837f00e584710fafe1e1cdf7d1fcf125ef936ef...    True          68406   \n",
      "2  0x90664853ff57bb93f195e49d93e0dcd57a77fc323516...    True          68406   \n",
      "3  0x1bab669bd25fc219db609eade2ab74e69c150fddc301...    True          68406   \n",
      "4  0x8edd130d34ecc927b3f30e7aa2ed53f2e4567b3c0f5f...    True          68406   \n",
      "\n",
      "   Coste en wei  Bloque              Tiempo  Diferencia de tiempo  \n",
      "0      0.000005     338 2023-04-13 01:36:41                   0.0  \n",
      "1      0.000005     338 2023-04-13 01:36:41                   0.0  \n",
      "2      0.000005     338 2023-04-13 01:36:41                   0.0  \n",
      "3      0.000005     338 2023-04-13 01:36:41                   0.0  \n",
      "4      0.000005     338 2023-04-13 01:36:41                   0.0  \n",
      "                                         Transacción  Estado  Gas utilizado  \\\n",
      "0  0x350d606b58d884ed67e36b7faecea65a7d7533e93ab8...    True          31598   \n",
      "1  0x47a289eb28291635582d4f80a7237b7a7593682f06d0...    True          31598   \n",
      "2  0xf36f4a5419b633f29bdf9b1b00190639349ed00a0b15...    True          31598   \n",
      "3  0x9b00823a6764d78122123283c637cbd0615c34a32eba...    True          31598   \n",
      "4  0xa56952e5283f3699025d69fc8941be131f505b57e0b4...    True          31598   \n",
      "\n",
      "   Coste en wei  Bloque              Tiempo  Diferencia de tiempo  \n",
      "0      0.000002     341 2023-04-13 01:36:55                   0.0  \n",
      "1      0.000002     341 2023-04-13 01:36:55                   0.0  \n",
      "2      0.000002     341 2023-04-13 01:36:55                   0.0  \n",
      "3      0.000002     341 2023-04-13 01:36:55                   0.0  \n",
      "4      0.000002     341 2023-04-13 01:36:55                   0.0  \n",
      "                                         Transacción  Estado  Gas utilizado  \\\n",
      "0  0x9acf0e4a243c6aaad4c0ff4834959e4c6b29b81c28b6...    True          14485   \n",
      "\n",
      "   Coste en wei  Bloque              Tiempo  Diferencia de tiempo  \n",
      "0      0.000001     347 2023-04-13 01:37:51                   NaN  \n",
      "                                         Transacción  Estado  Gas utilizado  \\\n",
      "0  0x9762da9c73653f35e680a15cb367049d0bf1f3474e55...    True          68394   \n",
      "1  0xc7565cf85abd039c4071ed9a400c323cde07342be15d...    True          68406   \n",
      "2  0xf56016e7e51731ead029ccfc653d967b6590a608646c...    True          68406   \n",
      "3  0xbf12f9b630be62c86cd7041cb07b974e35d99ce4cccf...    True          68406   \n",
      "4  0x90f5786513a632c96a969d9084d21a268555a3ee4796...    True          68406   \n",
      "\n",
      "   Coste en wei  Bloque              Tiempo  Diferencia de tiempo  \n",
      "0      0.000005      11 2023-04-13 01:39:49                   0.0  \n",
      "1      0.000005      11 2023-04-13 01:39:49                   0.0  \n",
      "2      0.000005      11 2023-04-13 01:39:49                   0.0  \n",
      "3      0.000005      11 2023-04-13 01:39:49                   0.0  \n",
      "4      0.000005      11 2023-04-13 01:39:49                   0.0  \n",
      "                                         Transacción  Estado  Gas utilizado  \\\n",
      "0  0xfc548c8c6bd4b437bf19ec671dff40d5d57123f4e55a...    True          31586   \n",
      "1  0xc8c0a79f6fe8aa07ce3624c03437ea09142cc4bacfd2...    True          31598   \n",
      "2  0x141461c82d2db10935624c1f4cb7b9b89e5659e06c6b...    True          31598   \n",
      "3  0xff45eb1882a5c19b29da9614d2dfcf2877ddc311b226...    True          31598   \n",
      "4  0x1631817a70883c69a6300f9e2a9e41d4f297b9d629cf...    True          31598   \n",
      "\n",
      "   Coste en wei  Bloque              Tiempo  Diferencia de tiempo  \n",
      "0      0.000002      13 2023-04-13 01:40:00              0.153846  \n",
      "1      0.000002      13 2023-04-13 01:40:00              0.000000  \n",
      "2      0.000002      13 2023-04-13 01:40:00              0.000000  \n",
      "3      0.000002      13 2023-04-13 01:40:00              0.000000  \n",
      "4      0.000002      13 2023-04-13 01:40:00              0.000000  \n",
      "                                         Transacción  Estado  Gas utilizado  \\\n",
      "0  0x42a822e6bd6357a58ef9a573fe0fda55809285c25e79...    True          14485   \n",
      "\n",
      "   Coste en wei  Bloque              Tiempo  Diferencia de tiempo  \n",
      "0  9.673898e-07      19 2023-04-13 01:40:41                   NaN  \n"
     ]
    }
   ],
   "source": [
    "#Gas utilizado \n",
    "import pandas as pd\n",
    "\n",
    "def hex_to_dec(datos):\n",
    "    # Convierte la columna \"Gas utilizado\" de hexadecimal a decimal\n",
    "    datos[\"Gas utilizado\"] = datos[\"Gas utilizado\"].apply(lambda x: int(x, 16))\n",
    "    \n",
    "    # Devuelve el DataFrame modificado\n",
    "    return datos\n",
    "\n",
    "\n",
    "# Iterar sobre la lista de nombres de datasets\n",
    "for dataset in datasets:\n",
    "    # Aplicar la función a la columna \"Gas utilizado\" del DataFrame\n",
    "    globals()[dataset] = hex_to_dec(globals()[dataset])\n",
    "    \n",
    "    # Imprimir el DataFrame resultante\n",
    "    print(globals()[dataset].head())\n"
   ]
  },
  {
   "cell_type": "markdown",
   "metadata": {},
   "source": [
    "# Comparativa"
   ]
  },
  {
   "cell_type": "markdown",
   "metadata": {},
   "source": [
    "### Generamos distintos datasets"
   ]
  },
  {
   "cell_type": "code",
   "execution_count": 19,
   "metadata": {},
   "outputs": [],
   "source": [
    "datasets_comprar = {\n",
    "    \"paralelo_3_ganachedatos1\": paralelo_3_ganachedatos1,\n",
    "    \"paralelo_ganachedatos1\": paralelo_ganachedatos1\n",
    "}\n",
    "\n",
    "\n",
    "datasets_revender = {\n",
    "    \"paralelo_3_ganachedatos2\": paralelo_3_ganachedatos2,\n",
    "    \"paralelo_ganachedatos2\": paralelo_ganachedatos2\n",
    "}\n",
    "\n",
    "\n",
    "datasets_eliminar = {\n",
    "    \"paralelo_3_ganachedatos3\": paralelo_3_ganachedatos3,\n",
    "    \"paralelo_ganachedatos3\": paralelo_ganachedatos3\n",
    "}\n"
   ]
  },
  {
   "cell_type": "code",
   "execution_count": 44,
   "metadata": {},
   "outputs": [
    {
     "data": {
      "text/html": [
       "<div>\n",
       "<style scoped>\n",
       "    .dataframe tbody tr th:only-of-type {\n",
       "        vertical-align: middle;\n",
       "    }\n",
       "\n",
       "    .dataframe tbody tr th {\n",
       "        vertical-align: top;\n",
       "    }\n",
       "\n",
       "    .dataframe thead th {\n",
       "        text-align: right;\n",
       "    }\n",
       "</style>\n",
       "<table border=\"1\" class=\"dataframe\">\n",
       "  <thead>\n",
       "    <tr style=\"text-align: right;\">\n",
       "      <th></th>\n",
       "      <th>Transacción</th>\n",
       "      <th>Estado</th>\n",
       "      <th>Gas utilizado</th>\n",
       "      <th>Coste en wei</th>\n",
       "      <th>Bloque</th>\n",
       "      <th>Tiempo</th>\n",
       "      <th>Diferencia de tiempo</th>\n",
       "      <th>Fuente</th>\n",
       "    </tr>\n",
       "  </thead>\n",
       "  <tbody>\n",
       "    <tr>\n",
       "      <th>0</th>\n",
       "      <td>0x9acf0e4a243c6aaad4c0ff4834959e4c6b29b81c28b6...</td>\n",
       "      <td>True</td>\n",
       "      <td>14485</td>\n",
       "      <td>0.000001</td>\n",
       "      <td>347</td>\n",
       "      <td>2023-04-13 01:37:51</td>\n",
       "      <td>NaN</td>\n",
       "      <td>paralelo_3_ganachedatos3</td>\n",
       "    </tr>\n",
       "  </tbody>\n",
       "</table>\n",
       "</div>"
      ],
      "text/plain": [
       "                                         Transacción  Estado  Gas utilizado  \\\n",
       "0  0x9acf0e4a243c6aaad4c0ff4834959e4c6b29b81c28b6...    True          14485   \n",
       "\n",
       "   Coste en wei  Bloque              Tiempo  Diferencia de tiempo  \\\n",
       "0      0.000001     347 2023-04-13 01:37:51                   NaN   \n",
       "\n",
       "                     Fuente  \n",
       "0  paralelo_3_ganachedatos3  "
      ]
     },
     "execution_count": 44,
     "metadata": {},
     "output_type": "execute_result"
    }
   ],
   "source": [
    "paralelo_3_ganachedatos3"
   ]
  },
  {
   "cell_type": "markdown",
   "metadata": {},
   "source": [
    "#  Dataset resumen"
   ]
  },
  {
   "cell_type": "code",
   "execution_count": 45,
   "metadata": {},
   "outputs": [
    {
     "data": {
      "text/html": [
       "<div>\n",
       "<style scoped>\n",
       "    .dataframe tbody tr th:only-of-type {\n",
       "        vertical-align: middle;\n",
       "    }\n",
       "\n",
       "    .dataframe tbody tr th {\n",
       "        vertical-align: top;\n",
       "    }\n",
       "\n",
       "    .dataframe thead th {\n",
       "        text-align: right;\n",
       "    }\n",
       "</style>\n",
       "<table border=\"1\" class=\"dataframe\">\n",
       "  <thead>\n",
       "    <tr style=\"text-align: right;\">\n",
       "      <th></th>\n",
       "      <th>Antes</th>\n",
       "      <th>Despues</th>\n",
       "      <th>Duración</th>\n",
       "      <th>Transacciones</th>\n",
       "      <th>Coste Total</th>\n",
       "    </tr>\n",
       "  </thead>\n",
       "  <tbody>\n",
       "    <tr>\n",
       "      <th>0</th>\n",
       "      <td>39396</td>\n",
       "      <td>86884</td>\n",
       "      <td>47488</td>\n",
       "      <td>1</td>\n",
       "      <td>0.000001</td>\n",
       "    </tr>\n",
       "  </tbody>\n",
       "</table>\n",
       "</div>"
      ],
      "text/plain": [
       "   Antes  Despues  Duración  Transacciones  Coste Total\n",
       "0  39396    86884     47488              1     0.000001"
      ]
     },
     "execution_count": 45,
     "metadata": {},
     "output_type": "execute_result"
    }
   ],
   "source": [
    "paralelo_3_ganache_resumen3"
   ]
  },
  {
   "cell_type": "code",
   "execution_count": 46,
   "metadata": {},
   "outputs": [
    {
     "data": {
      "text/html": [
       "<div>\n",
       "<style scoped>\n",
       "    .dataframe tbody tr th:only-of-type {\n",
       "        vertical-align: middle;\n",
       "    }\n",
       "\n",
       "    .dataframe tbody tr th {\n",
       "        vertical-align: top;\n",
       "    }\n",
       "\n",
       "    .dataframe thead th {\n",
       "        text-align: right;\n",
       "    }\n",
       "</style>\n",
       "<table border=\"1\" class=\"dataframe\">\n",
       "  <thead>\n",
       "    <tr style=\"text-align: right;\">\n",
       "      <th></th>\n",
       "      <th>Antes</th>\n",
       "      <th>Despues</th>\n",
       "      <th>Duración</th>\n",
       "      <th>Transacciones</th>\n",
       "      <th>Coste Total</th>\n",
       "    </tr>\n",
       "  </thead>\n",
       "  <tbody>\n",
       "    <tr>\n",
       "      <th>0</th>\n",
       "      <td>36028</td>\n",
       "      <td>67337</td>\n",
       "      <td>31309</td>\n",
       "      <td>1</td>\n",
       "      <td>9.673898e-07</td>\n",
       "    </tr>\n",
       "  </tbody>\n",
       "</table>\n",
       "</div>"
      ],
      "text/plain": [
       "   Antes  Despues  Duración  Transacciones   Coste Total\n",
       "0  36028    67337     31309              1  9.673898e-07"
      ]
     },
     "execution_count": 46,
     "metadata": {},
     "output_type": "execute_result"
    }
   ],
   "source": [
    "paralelo_ganache_resumen3"
   ]
  },
  {
   "cell_type": "code",
   "execution_count": 50,
   "metadata": {},
   "outputs": [],
   "source": [
    "datasets_resumen = {\n",
    "    \"paralelo_3_ganache_resumen3\": paralelo_3_ganache_resumen3,\n",
    "    \"paralelo_ganache_resumen3\": paralelo_ganache_resumen3\n",
    "}\n"
   ]
  },
  {
   "cell_type": "markdown",
   "metadata": {},
   "source": [
    "## Graficas"
   ]
  },
  {
   "cell_type": "markdown",
   "metadata": {},
   "source": [
    "### Barras"
   ]
  },
  {
   "cell_type": "code",
   "execution_count": 51,
   "metadata": {},
   "outputs": [
    {
     "data": {
      "image/png": "[encoded data removed]",
      "text/plain": [
       "<Figure size 1200x600 with 1 Axes>"
      ]
     },
     "metadata": {},
     "output_type": "display_data"
    }
   ],
   "source": [
    "import matplotlib.pyplot as plt\n",
    "import numpy as np\n",
    "\n",
    "# Configuración del gráfico\n",
    "labels = [f\"{i}\" for i in range(1, len(datasets_resumen['paralelo_3_ganache_resumen3']['Coste Total'])+1)]\n",
    "x = np.arange(len(labels))\n",
    "width = 0.45\n",
    "\n",
    "# Crear el gráfico con figsize\n",
    "fig, ax = plt.subplots(figsize=(12, 6))\n",
    "\n",
    "# Iterar sobre el diccionario de datasets y agregar los datos al gráfico\n",
    "for i, (dataset_name, dataset_values) in enumerate(datasets_resumen.items()):\n",
    "    ax.bar(x + ((-1)**i) * width/2, dataset_values['Coste Total'], width, label=f'{dataset_name}')\n",
    "\n",
    "# Configurar las etiquetas y leyendas del gráfico\n",
    "ax.set_ylabel('Coste Total')\n",
    "ax.set_xticks([])\n",
    "ax.legend()\n",
    "fig.suptitle(\"Comparativa coste en wei de Revender entradas\")\n",
    "\n",
    "# Mostrar el gráfico\n",
    "plt.show()\n"
   ]
  },
  {
   "cell_type": "markdown",
   "metadata": {},
   "source": [
    "### Diagrama de dispersion"
   ]
  },
  {
   "cell_type": "code",
   "execution_count": 55,
   "metadata": {
    "scrolled": true
   },
   "outputs": [
    {
     "data": {
      "image/png": "[encoded data removed]",
      "text/plain": [
       "<Figure size 800x600 with 1 Axes>"
      ]
     },
     "metadata": {},
     "output_type": "display_data"
    }
   ],
   "source": [
    "import matplotlib.pyplot as plt\n",
    "\n",
    "# Configuración del gráfico\n",
    "fig, ax = plt.subplots(figsize=(8, 6))\n",
    "\n",
    "# Crear el gráfico de dispersión para cada conjunto de datos en datasets_resumen\n",
    "for dataset_name, dataset_values in datasets_resumen.items():\n",
    "    x = dataset_values['Duración']\n",
    "    y = dataset_values['Coste Total']\n",
    "    transacciones = [f\"{dataset_name}\" for i in range(1, len(x)+1)]\n",
    "    ax.scatter(x, y, s=60, label=dataset_name)\n",
    "    \n",
    "    # Agregar etiquetas a cada punto\n",
    "    for i, txt in enumerate(transacciones):\n",
    "        ax.annotate(txt, (x[i], y[i]))\n",
    "    \n",
    "# Configurar las etiquetas y leyendas del gráfico\n",
    "ax.set_xlabel('Duración (ms)')\n",
    "ax.set_ylabel('Coste Total (ETH)')\n",
    "ax.legend()\n",
    "fig.suptitle('Relación entre duración y coste total de transacciones')\n",
    "plt.show()\n"
   ]
  },
  {
   "cell_type": "code",
   "execution_count": 56,
   "metadata": {},
   "outputs": [
    {
     "data": {
      "image/png": "[encoded data removed]",
      "text/plain": [
       "<Figure size 800x600 with 1 Axes>"
      ]
     },
     "metadata": {},
     "output_type": "display_data"
    }
   ],
   "source": [
    "import matplotlib.pyplot as plt\n",
    "\n",
    "# Configuración del gráfico\n",
    "fig, ax = plt.subplots(figsize=(8, 6))\n",
    "\n",
    "# Crear el gráfico de dispersión para cada conjunto de datos en datasets_resumen\n",
    "for dataset_name, dataset_values in datasets_resumen.items():\n",
    "    x = dataset_values['Duración']\n",
    "    y = dataset_values['Coste Total']\n",
    "    ax.scatter(x, y, s=60, label=dataset_name)\n",
    "    \n",
    "# Configurar las etiquetas y leyendas del gráfico\n",
    "ax.set_xlabel('Duración (ms)')\n",
    "ax.set_ylabel('Coste Total (ETH)')\n",
    "ax.legend()\n",
    "fig.suptitle('Relación entre duración y coste total de transacciones')\n",
    "plt.show()\n"
   ]
  },
  {
   "cell_type": "markdown",
   "metadata": {},
   "source": [
    "## Licence\n",
    "The notebook is freely licensed under under the [Creative Commons Attribution Share-Alike license](https://creativecommons.org/licenses/by/2.0/).  \n",
    "\n",
    "©  Carlos A. Iglesias, Universidad Politécnica de Madrid."
   ]
  },
  {
   "cell_type": "code",
   "execution_count": null,
   "metadata": {},
   "outputs": [],
   "source": []
  }
 ],
 "metadata": {
  "datacleaner": {
   "position": {
    "top": "50px"
   },
   "python": {
    "varRefreshCmd": "try:\n    print(_datacleaner.dataframe_metadata())\nexcept:\n    print([])"
   },
   "window_display": false
  },
  "kernelspec": {
   "display_name": "Python 3 (ipykernel)",
   "language": "python",
   "name": "python3"
  },
  "language_info": {
   "codemirror_mode": {
    "name": "ipython",
    "version": 3
   },
   "file_extension": ".py",
   "mimetype": "text/x-python",
   "name": "python",
   "nbconvert_exporter": "python",
   "pygments_lexer": "ipython3",
   "version": "3.10.9"
  },
  "latex_envs": {
   "LaTeX_envs_menu_present": true,
   "autocomplete": true,
   "bibliofile": "biblio.bib",
   "cite_by": "apalike",
   "current_citInitial": 1,
   "eqLabelWithNumbers": true,
   "eqNumInitial": 1,
   "hotkeys": {
    "equation": "Ctrl-E",
    "itemize": "Ctrl-I"
   },
   "labels_anchors": false,
   "latex_user_defs": false,
   "report_style_numbering": false,
   "user_envs_cfg": false
  }
 },
 "nbformat": 4,
 "nbformat_minor": 1
}
