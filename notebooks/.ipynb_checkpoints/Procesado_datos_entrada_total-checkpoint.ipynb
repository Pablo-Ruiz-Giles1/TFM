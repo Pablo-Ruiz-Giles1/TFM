{
 "cells": [
  {
   "cell_type": "markdown",
   "metadata": {},
   "source": [
    "![](files/images/EscUpmPolit_p.gif \"UPM\")"
   ]
  },
  {
   "cell_type": "markdown",
   "metadata": {},
   "source": [
    "<header style=\"width:100%;position:relative\">\n",
    "  <div style=\"width:80%;float:right;\">\n",
    "    <h1>Procesado de datos de Blockchain</h1>\n",
    "    <h3>TFM</h3>\n",
    "    <h5>Universidad Politécnica de Madrid. © Pablo Ruiz Giles </h5>\n",
    "  </div>\n",
    "        <img style=\"width:15%;\" src=\"../logo.jpg\" alt=\"UPM\" />\n",
    "</header>"
   ]
  },
  {
   "cell_type": "markdown",
   "metadata": {},
   "source": [
    "# Cargamos los datasets"
   ]
  },
  {
   "cell_type": "code",
   "execution_count": 1,
   "metadata": {},
   "outputs": [
    {
     "name": "stdout",
     "output_type": "stream",
     "text": [
      "Los siguientes DataFrames se han creado:\n",
      "entradas_ganache_datos\n",
      "entradas_ganache_total\n"
     ]
    }
   ],
   "source": [
    "import numpy as np\n",
    "import pandas as pd\n",
    "import os\n",
    "\n",
    "# Obtener la lista de archivos CSV en la carpeta datos/entradas_ganache/\n",
    "csv_files = [f for f in os.listdir('datos/entradas_ganache/') if f.endswith('.csv')]\n",
    "\n",
    "# Leer cada archivo CSV y asignarlo a una variable\n",
    "for f in csv_files:\n",
    "    # Obtener el nombre del archivo sin la extensión\n",
    "    name = os.path.splitext(f)[0]\n",
    "    # Leer el archivo CSV y asignarlo a una variable con el nombre del archivo\n",
    "    vars()[name] = pd.read_csv(os.path.join('datos/entradas_ganache/', f))\n",
    "\n",
    "# Imprimir los nombres de las variables creadas que empiezan con \"entradas_ganache\"\n",
    "print(\"Los siguientes DataFrames se han creado:\")\n",
    "for var in sorted(vars()):\n",
    "    if var.startswith('entradas_ganache'):\n",
    "        print(var)\n"
   ]
  },
  {
   "cell_type": "code",
   "execution_count": 2,
   "metadata": {},
   "outputs": [
    {
     "name": "stdout",
     "output_type": "stream",
     "text": [
      "Los siguientes DataFrames se han creado:\n",
      "entradas_ganache_3_datos\n",
      "entradas_ganache_3_total\n"
     ]
    }
   ],
   "source": [
    "import numpy as np\n",
    "import pandas as pd\n",
    "import os\n",
    "\n",
    "# Obtener la lista de archivos CSV en la carpeta datos/entradas_ganache_3/\n",
    "csv_files = [f for f in os.listdir('datos/entradas_ganache_3/') if f.endswith('.csv')]\n",
    "\n",
    "# Leer cada archivo CSV y asignarlo a una variable\n",
    "for f in csv_files:\n",
    "    # Obtener el nombre del archivo sin la extensión\n",
    "    name = os.path.splitext(f)[0]\n",
    "    # Leer el archivo CSV y asignarlo a una variable con el nombre del archivo\n",
    "    vars()[name] = pd.read_csv(os.path.join('datos/entradas_ganache_3/', f))\n",
    "\n",
    "# Imprimir los nombres de las variables creadas que empiezan con \"entradas_ganache_3\"\n",
    "print(\"Los siguientes DataFrames se han creado:\")\n",
    "for var in sorted(vars()):\n",
    "    if var.startswith('entradas_ganache_3'):\n",
    "        print(var)\n"
   ]
  },
  {
   "cell_type": "code",
   "execution_count": 8,
   "metadata": {},
   "outputs": [
    {
     "name": "stdout",
     "output_type": "stream",
     "text": [
      "Los siguientes DataFrames se han creado:\n",
      "secuencial_sepolia_datos\n",
      "secuencial_sepolia_total\n"
     ]
    }
   ],
   "source": [
    "import numpy as np\n",
    "import pandas as pd\n",
    "import os\n",
    "\n",
    "# Obtener la lista de archivos CSV en la carpeta datos/entradas_ganache_3/\n",
    "csv_files = [f for f in os.listdir('datos/secuencial_sepolia/') if f.endswith('.csv')]\n",
    "\n",
    "# Leer cada archivo CSV y asignarlo a una variable\n",
    "for f in csv_files:\n",
    "    # Obtener el nombre del archivo sin la extensión\n",
    "    name = os.path.splitext(f)[0]\n",
    "    # Leer el archivo CSV y asignarlo a una variable con el nombre del archivo\n",
    "    vars()[name] = pd.read_csv(os.path.join('datos/secuencial_sepolia/', f))\n",
    "\n",
    "# Imprimir los nombres de las variables creadas que empiezan con \"entradas_ganache_3\"\n",
    "print(\"Los siguientes DataFrames se han creado:\")\n",
    "for var in sorted(vars()):\n",
    "    if var.startswith('secuencial_sepolia'):\n",
    "        print(var)\n"
   ]
  },
  {
   "cell_type": "markdown",
   "metadata": {},
   "source": [
    "## Visualización de datos"
   ]
  },
  {
   "cell_type": "code",
   "execution_count": 9,
   "metadata": {},
   "outputs": [
    {
     "data": {
      "text/html": [
       "<div>\n",
       "<style scoped>\n",
       "    .dataframe tbody tr th:only-of-type {\n",
       "        vertical-align: middle;\n",
       "    }\n",
       "\n",
       "    .dataframe tbody tr th {\n",
       "        vertical-align: top;\n",
       "    }\n",
       "\n",
       "    .dataframe thead th {\n",
       "        text-align: right;\n",
       "    }\n",
       "</style>\n",
       "<table border=\"1\" class=\"dataframe\">\n",
       "  <thead>\n",
       "    <tr style=\"text-align: right;\">\n",
       "      <th></th>\n",
       "      <th>Creadas</th>\n",
       "      <th>Coste en gas (wei)</th>\n",
       "      <th>Coste en ether</th>\n",
       "      <th>Empezar</th>\n",
       "      <th>Acabar</th>\n",
       "      <th>Duracion</th>\n",
       "    </tr>\n",
       "  </thead>\n",
       "  <tbody>\n",
       "    <tr>\n",
       "      <th>0</th>\n",
       "      <td>25</td>\n",
       "      <td>37876281995625</td>\n",
       "      <td>0.000038</td>\n",
       "      <td>43</td>\n",
       "      <td>77219</td>\n",
       "      <td>77176</td>\n",
       "    </tr>\n",
       "  </tbody>\n",
       "</table>\n",
       "</div>"
      ],
      "text/plain": [
       "   Creadas  Coste en gas (wei)  Coste en ether  Empezar  Acabar  Duracion\n",
       "0       25      37876281995625        0.000038       43   77219     77176"
      ]
     },
     "execution_count": 9,
     "metadata": {},
     "output_type": "execute_result"
    }
   ],
   "source": [
    "entradas_ganache_total"
   ]
  },
  {
   "cell_type": "code",
   "execution_count": 10,
   "metadata": {},
   "outputs": [
    {
     "data": {
      "text/html": [
       "<div>\n",
       "<style scoped>\n",
       "    .dataframe tbody tr th:only-of-type {\n",
       "        vertical-align: middle;\n",
       "    }\n",
       "\n",
       "    .dataframe tbody tr th {\n",
       "        vertical-align: top;\n",
       "    }\n",
       "\n",
       "    .dataframe thead th {\n",
       "        text-align: right;\n",
       "    }\n",
       "</style>\n",
       "<table border=\"1\" class=\"dataframe\">\n",
       "  <thead>\n",
       "    <tr style=\"text-align: right;\">\n",
       "      <th></th>\n",
       "      <th>Creadas</th>\n",
       "      <th>Coste en gas (wei)</th>\n",
       "      <th>Coste en ether</th>\n",
       "      <th>Empezar</th>\n",
       "      <th>Acabar</th>\n",
       "      <th>Duracion</th>\n",
       "    </tr>\n",
       "  </thead>\n",
       "  <tbody>\n",
       "    <tr>\n",
       "      <th>0</th>\n",
       "      <td>25</td>\n",
       "      <td>68765751995625</td>\n",
       "      <td>0.000069</td>\n",
       "      <td>59</td>\n",
       "      <td>102908</td>\n",
       "      <td>102849</td>\n",
       "    </tr>\n",
       "  </tbody>\n",
       "</table>\n",
       "</div>"
      ],
      "text/plain": [
       "   Creadas  Coste en gas (wei)  Coste en ether  Empezar  Acabar  Duracion\n",
       "0       25      68765751995625        0.000069       59  102908    102849"
      ]
     },
     "execution_count": 10,
     "metadata": {},
     "output_type": "execute_result"
    }
   ],
   "source": [
    "entradas_ganache_3_total"
   ]
  },
  {
   "cell_type": "markdown",
   "metadata": {},
   "source": [
    "### Creamos un diccionario"
   ]
  },
  {
   "cell_type": "code",
   "execution_count": 5,
   "metadata": {},
   "outputs": [],
   "source": [
    "datasets_resumen = {\n",
    "    \"entradas_ganache_3_total\": entradas_ganache_3_total,\n",
    "    \"entradas_ganache_total\": entradas_ganache_total,\n",
    "    \"secuencial_sepolia\": secuencial_sepolia\n",
    "}\n",
    "\n"
   ]
  },
  {
   "cell_type": "markdown",
   "metadata": {},
   "source": [
    "#  Dataset Total"
   ]
  },
  {
   "cell_type": "code",
   "execution_count": 6,
   "metadata": {},
   "outputs": [
    {
     "name": "stdout",
     "output_type": "stream",
     "text": [
      "Estadísticas para el conjunto de datos entradas_ganache_3_total\n",
      "Media de Duración: 102849.0\n",
      "Media de Coste en ether: 6.87657519956e-05\n",
      "Estadísticas para el conjunto de datos entradas_ganache_total\n",
      "Media de Duración: 77176.0\n",
      "Media de Coste en ether: 3.78762819956e-05\n"
     ]
    }
   ],
   "source": [
    "for dataset_name, dataset_values in datasets_resumen.items():\n",
    "    # Obtener la media de la duración y el coste en ether\n",
    "    media_duracion = dataset_values['Duracion'].mean()\n",
    "    media_coste_ether = dataset_values['Coste en ether'].mean()\n",
    "\n",
    "    # Imprimir las estadísticas para el conjunto de datos actual\n",
    "    print(\"Estadísticas para el conjunto de datos\", dataset_name)\n",
    "    print(\"Media de Duración:\", media_duracion)\n",
    "    print(\"Media de Coste en ether:\", media_coste_ether)\n"
   ]
  },
  {
   "cell_type": "code",
   "execution_count": 7,
   "metadata": {},
   "outputs": [
    {
     "data": {
      "image/png": "[encoded data removed]",
      "text/plain": [
       "<Figure size 640x480 with 1 Axes>"
      ]
     },
     "metadata": {},
     "output_type": "display_data"
    }
   ],
   "source": [
    "import matplotlib.pyplot as plt\n",
    "\n",
    "# Crear una lista de colores para cada conjunto de datos\n",
    "colores = ['blue', 'orange']\n",
    "\n",
    "# Configurar el gráfico de dispersión\n",
    "fig, ax = plt.subplots()\n",
    "for i, (dataset_name, dataset_values) in enumerate(datasets_resumen.items()):\n",
    "    duracion_media = dataset_values['Duracion']\n",
    "    coste_media = dataset_values['Coste en ether']\n",
    "    ax.scatter(duracion_media, coste_media, color=colores[i], label=dataset_name)\n",
    "\n",
    "ax.set_xlabel('Duración')\n",
    "ax.set_ylabel('Coste en ether')\n",
    "ax.set_title('Duración y Coste en ether por conjunto de datos')\n",
    "ax.legend()\n",
    "\n",
    "# Mostrar el gráfico\n",
    "plt.show()\n"
   ]
  },
  {
   "cell_type": "markdown",
   "metadata": {},
   "source": [
    "## Licence\n",
    "The notebook is freely licensed under under the [Creative Commons Attribution Share-Alike license](https://creativecommons.org/licenses/by/2.0/).  \n",
    "\n",
    "©  Carlos A. Iglesias, Universidad Politécnica de Madrid."
   ]
  }
 ],
 "metadata": {
  "datacleaner": {
   "position": {
    "top": "50px"
   },
   "python": {
    "varRefreshCmd": "try:\n    print(_datacleaner.dataframe_metadata())\nexcept:\n    print([])"
   },
   "window_display": false
  },
  "kernelspec": {
   "display_name": "Python 3 (ipykernel)",
   "language": "python",
   "name": "python3"
  },
  "language_info": {
   "codemirror_mode": {
    "name": "ipython",
    "version": 3
   },
   "file_extension": ".py",
   "mimetype": "text/x-python",
   "name": "python",
   "nbconvert_exporter": "python",
   "pygments_lexer": "ipython3",
   "version": "3.10.9"
  },
  "latex_envs": {
   "LaTeX_envs_menu_present": true,
   "autocomplete": true,
   "bibliofile": "biblio.bib",
   "cite_by": "apalike",
   "current_citInitial": 1,
   "eqLabelWithNumbers": true,
   "eqNumInitial": 1,
   "hotkeys": {
    "equation": "Ctrl-E",
    "itemize": "Ctrl-I"
   },
   "labels_anchors": false,
   "latex_user_defs": false,
   "report_style_numbering": false,
   "user_envs_cfg": false
  }
 },
 "nbformat": 4,
 "nbformat_minor": 1
}
