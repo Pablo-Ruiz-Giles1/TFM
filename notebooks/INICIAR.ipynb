{
 "cells": [
  {
   "cell_type": "markdown",
   "metadata": {},
   "source": [
    "![](files/images/EscUpmPolit_p.gif \"UPM\")"
   ]
  },
  {
   "cell_type": "markdown",
   "metadata": {},
   "source": [
    "<header style=\"width: 100%; position: relative; text-align: center;\">\n",
    "  <div style=\"width: 80%; display: inline-block;\">\n",
    "    <h1 style=\"margin: 0; margin-bottom: 10px;\">Procesado de datos de Blockchain</h1>\n",
    "    <h3 style=\"margin: 0; margin-bottom: 20px;\">TFM</h3>\n",
    "    <h5 style=\"margin: 0;\">Universidad Politécnica de Madrid. © Pablo Ruiz Giles</h5>\n",
    "  </div>\n",
    "</header>"
   ]
  },
  {
   "cell_type": "markdown",
   "metadata": {},
   "source": [
    "# Introducción"
   ]
  },
  {
   "cell_type": "markdown",
   "metadata": {},
   "source": [
    "Este estudio práctico se enfoca en la comparativa exhaustiva de las redes blockchain de capa 1 en relación con las principales redes de capa 2. Con el objetivo de llevar a cabo este análisis, se ha llevado a cabo una serie de notebooks diseñados para proporcionar una visualización gráfica de las diferencias clave entre estas redes.\n",
    "\n",
    "El presente estudio se divide en dos enfoques distintos: el enfoque secuencial y el enfoque paralelo. Ambos enfoques se encuentran claramente separados en el índice presentado a continuación, lo cual facilita la navegación y comprensión de los resultados obtenidos."
   ]
  },
  {
   "cell_type": "markdown",
   "metadata": {},
   "source": [
    "# Resumen de los tipos de datasets"
   ]
  },
  {
   "cell_type": "markdown",
   "metadata": {},
   "source": [
    "Durante el transcurso de este estudio, se trabajarán con diversos tipos de conjuntos de datos. A continuación se detallan cada uno de ellos:\n",
    "\n",
    "- Dataset Secuencial: Este tipo de conjunto de datos contiene la información recopilada a partir de pruebas realizadas de manera secuencial, es decir, en un orden consecutivo.\n",
    "\n",
    "- Dataset Paralelo: Este conjunto de datos incluye la información obtenida de pruebas realizadas de forma paralela, lo cual implica la ejecución simultánea de múltiples transacciones.\n",
    "\n",
    "- Dataset de Eliminar: Este tipo de datos se recopila de las pruebas llevadas a cabo mediante los scripts de \"Eliminar\". \n",
    "\n",
    "- Dataset Etherscan: Estos datos contienen las transacciones más recientes realizadas por la wallet \"0x297adbb802536Bb79B5d7d580B25074D4e40De33\". Esta wallet ha sido utilizada como fuente principal de transacciones en las diferentes redes. Estos datos son relevantes para obtener un cálculo más preciso del costo de las transacciones a través de los registros disponibles en los respectivos exploradores de bloques de cada red.\n",
    "\n",
    "La utilización de estos distintos tipos de datasets permitirá un análisis más completo y representativo de las redes blockchain bajo estudio."
   ]
  },
  {
   "cell_type": "markdown",
   "metadata": {},
   "source": [
    "# Indice"
   ]
  },
  {
   "cell_type": "markdown",
   "metadata": {},
   "source": [
    "1. Secuencial\n",
    "    1. [Conjunto operaciones en dólares](procesado_secuncial_entradas_dolares.ipynb)\n",
    "    2. [Conjunto operaciones en ether](procesado_secuncial_entradas_ether.ipynb)\n",
    "2. Paralelo\n",
    "    1. Comprar\n",
    "        1. [Operaciones Comprar en dólares](Procesado_paralelo_datos_entradas_comprar_dolares.ipynb)\n",
    "        2. [Operaciones Comprar en ether](Procesado_paralelo_datos_entradas_comprar_ether.ipynb)\n",
    "    1. Revender        \n",
    "        1. [Operaciones Revender en dólares](Procesado_paralelo_datos_entradas_revender_dolares.ipynb)\n",
    "        2. [Operaciones Revender en ether](Procesado_paralelo_datos_entradas_revender_ether.ipynb)\n",
    "    1. Eliminar\n",
    "        1. [Operacione Eliminar en dólares](Procesado_paralelo_datos_entradas_eliminar_dolares.ipynb)\n",
    "        2. [Operacione Eliminar en ether](Procesado_paralelo_datos_entradas_eliminar_ether.ipynb)\n",
    "\n"
   ]
  },
  {
   "cell_type": "markdown",
   "metadata": {},
   "source": [
    "# Estructura de los datasets"
   ]
  },
  {
   "cell_type": "markdown",
   "metadata": {},
   "source": [
    "Los datasets presentan esta estructura básica, aunque pueden diferir ligeramente unos de otros.\n",
    "\n",
    "- Transacción: Identificador único de la transacción en formato hexadecimal.\n",
    "\n",
    "- Estado: Indica el estado de la transacción, donde \"true\" representa que la transacción fue exitosa.\n",
    "\n",
    "- Gas utilizado: Cantidad de gas utilizado en la transacción, indicado en formato hexadecimal.\n",
    "\n",
    "- Coste en wei: El costo de la transacción expresado en wei, una unidad de medida utilizada en Ethereum.\n",
    "\n",
    "- Bloque: Número del bloque en el cual se incluyó la transacción.\n",
    "\n",
    "- Tiempo: Marca de tiempo que indica la hora en la que se realizó la transacción, en formato HH:MM:SS."
   ]
  }
 ],
 "metadata": {
  "datacleaner": {
   "position": {
    "top": "50px"
   },
   "python": {
    "varRefreshCmd": "try:\n    print(_datacleaner.dataframe_metadata())\nexcept:\n    print([])"
   },
   "window_display": false
  },
  "kernelspec": {
   "display_name": "Python 3 (ipykernel)",
   "language": "python",
   "name": "python3"
  },
  "language_info": {
   "codemirror_mode": {
    "name": "ipython",
    "version": 3
   },
   "file_extension": ".py",
   "mimetype": "text/x-python",
   "name": "python",
   "nbconvert_exporter": "python",
   "pygments_lexer": "ipython3",
   "version": "3.10.9"
  },
  "latex_envs": {
   "LaTeX_envs_menu_present": true,
   "autocomplete": true,
   "bibliofile": "biblio.bib",
   "cite_by": "apalike",
   "current_citInitial": 1,
   "eqLabelWithNumbers": true,
   "eqNumInitial": 1,
   "hotkeys": {
    "equation": "Ctrl-E",
    "itemize": "Ctrl-I"
   },
   "labels_anchors": false,
   "latex_user_defs": false,
   "report_style_numbering": false,
   "user_envs_cfg": false
  }
 },
 "nbformat": 4,
 "nbformat_minor": 1
}
