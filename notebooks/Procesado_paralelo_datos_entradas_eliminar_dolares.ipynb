{
 "cells": [
  {
   "cell_type": "markdown",
   "metadata": {},
   "source": [
    "![](files/images/EscUpmPolit_p.gif \"UPM\")"
   ]
  },
  {
   "cell_type": "markdown",
   "metadata": {},
   "source": [
    "<header style=\"width: 100%; position: relative; text-align: center;\">\n",
    "  <div style=\"width: 80%; display: inline-block;\">\n",
    "    <h1 style=\"margin: 0; margin-bottom: 10px;\">Procesado de datos de Blockchain</h1>\n",
    "    <h3 style=\"margin: 0; margin-bottom: 20px;\">TFM</h3>\n",
    "    <h5 style=\"margin: 0;\">Universidad Politécnica de Madrid. © Pablo Ruiz Giles</h5>\n",
    "  </div>\n",
    "</header>\n"
   ]
  },
  {
   "cell_type": "markdown",
   "metadata": {},
   "source": [
    "<section id=\"comprar\">\n",
    "  <h1>Eliminar</h1>\n",
    "\n",
    "</section>"
   ]
  },
  {
   "cell_type": "markdown",
   "metadata": {},
   "source": [
    "A continuación se presenta un breve resumen de los puntos que se tratarán en el notebook:\n",
    "\n",
    "- Eliminar: Esta sección abordará aspectos relacionados con la eliminación de datos específicos en el conjunto de datos.\n",
    "\n",
    "- Importar datasets: Se explicará cómo importar los conjuntos de datos necesarios para el estudio, incluyendo los datasets paralelo y Etherscan.\n",
    "\n",
    "- Procesamiento de los datos: En esta sección se describirán los procesos aplicados a los datos, como la modificación de la columna de coste en wei, la conversión del gas utilizado de formato hexadecimal a decimal y la creación de una columna para el coste en dólares.\n",
    "\n",
    "- Representación: Se presentarán diversas representaciones gráficas para visualizar el coste en dólares de las transacciones, la relación entre el coste y la duración de las transacciones en dólares, así como la relación entre el gas utilizado y el coste en dólares."
   ]
  },
  {
   "cell_type": "markdown",
   "metadata": {},
   "source": [
    "<h1>Índice</h1>\n",
    "\t<ul>\n",
    "\t\t<li><h3>Eliminar</h3></li>\n",
    "\t\t<li>Importar datasets\n",
    "\t\t\t<ul>\n",
    "\t\t\t\t<li><a href=\"#paralelo\">Paralelo</a></li>\n",
    "\t\t\t\t<li><a href=\"#etherscan\">Etherscan</a></li>\n",
    "\t\t\t</ul>\n",
    "\t\t</li>\n",
    "\t\t<li>Procesamos los datos\n",
    "\t\t\t<ul>\n",
    "\t\t\t\t<li><a href=\"#modificacion-wei\">Modificación de la columna Coste en wei</a></li>\n",
    "\t\t\t\t<li><a href=\"#conversion-hex-dec\">Conversión de hexadecimal a decimal Gas utilizado</a></li>\n",
    "                <li><a href=\"#creacion-dolares\">Creación de una columna para dolares</a></li>\n",
    "\t\t\t</ul>\n",
    "\t\t</li>\n",
    "\t\t<li>Representación\n",
    "\t\t\t<ul>\n",
    "\t\t\t\t<li><a href=\"#representacion-coste-dolar\">Representación de Coste en dolares</a></li>\n",
    "\t\t\t\t<li><a href=\"#representacion-coste-duracion-en-dolares\">Representación de Coste y la duración en dolares</a></li>\n",
    "                <li><a href=\"#representacion-gas-dolares\">Representación del gas y coste en dolares</a></li>\n",
    "\t\t\t</ul>\n",
    "\t\t</li>\n",
    "\t</ul>\n"
   ]
  },
  {
   "cell_type": "markdown",
   "metadata": {},
   "source": [
    "# Importamos los datasets"
   ]
  },
  {
   "cell_type": "markdown",
   "metadata": {},
   "source": [
    "<section id=\"paralelo\">\n",
    "  <h2>Eliminar Datasets</h2>\n",
    "\n",
    "</section>"
   ]
  },
  {
   "cell_type": "markdown",
   "metadata": {},
   "source": [
    "Importamos los datastes de datos y creamos un diccionario llamado datasets_resumen que contiene los datos anteriormente importados"
   ]
  },
  {
   "cell_type": "code",
   "execution_count": 1,
   "metadata": {},
   "outputs": [
    {
     "name": "stdout",
     "output_type": "stream",
     "text": [
      "Los siguientes DataFrames se han creado:\n",
      "arbitrum\n",
      "avalanche\n",
      "boba\n",
      "celo\n",
      "goerli\n",
      "optimism\n",
      "sepolia\n"
     ]
    }
   ],
   "source": [
    "import pandas as pd\n",
    "import os\n",
    "\n",
    "# Obtener la lista de carpetas en la carpeta datos/eliminar/\n",
    "carpetas = [f for f in os.listdir('datos/eliminar/') if os.path.isdir(os.path.join('datos/eliminar/', f))]\n",
    "\n",
    "# Crear un diccionario vacío para almacenar los DataFrames\n",
    "datasets_resumen = {}\n",
    "\n",
    "# Leer cada archivo CSV en cada carpeta y asignarlo a una variable con el nombre de la carpeta\n",
    "for carpeta in carpetas:\n",
    "    csv_files = [f for f in os.listdir(os.path.join('datos/eliminar/', carpeta)) if f.endswith('eliminar_resumen3.csv')]\n",
    "    for f in csv_files:\n",
    "        name = os.path.splitext(f)[0]\n",
    "        name_without_suffix = name.replace('_eliminar_resumen3', '')\n",
    "        vars()[name] = pd.read_csv(os.path.join('datos/eliminar/', carpeta, f))\n",
    "        datasets_resumen[name_without_suffix] = eval(name)\n",
    "\n",
    "# Imprimir los nombres de las variables creadas que contengan \"_paralelodatos1\"\n",
    "print(\"Los siguientes DataFrames se han creado:\")\n",
    "for var in sorted(datasets_resumen.keys()):\n",
    "    print(var)\n"
   ]
  },
  {
   "cell_type": "code",
   "execution_count": 2,
   "metadata": {},
   "outputs": [
    {
     "data": {
      "text/plain": [
       "{'arbitrum':                                          Transacción Gas utilizado  \\\n",
       " 0  0xb98ba76b2aa7a6237947cf677e13d9a4f265c2d38b91...        0x7895   \n",
       " \n",
       "    Coste en wei  Duración  \n",
       " 0      0.000003      2962  ,\n",
       " 'optimism':                                          Transacción Gas utilizado  \\\n",
       " 0  0x9cbbb3c01632e8a6924caba42117513952665b586be8...        0x7895   \n",
       " \n",
       "    Coste en wei  Duración  \n",
       " 0      0.000046      6792  ,\n",
       " 'avalanche':                                          Transacción Gas utilizado  \\\n",
       " 0  0x28d0e0d45fd15719a80219c07bc913f776edd7430cd5...        0x7895   \n",
       " \n",
       "    Coste en wei  Duración  \n",
       " 0      0.000772      7857  ,\n",
       " 'sepolia':                                          Transacción Gas utilizado  \\\n",
       " 0  0x5c89f0a3c1ba1b723fcbd1953525b7c978e49888155d...        0x7895   \n",
       " \n",
       "    Coste en wei  Duración  \n",
       " 0      0.000031     13306  ,\n",
       " 'celo':                                          Transacción Gas utilizado  \\\n",
       " 0  0x488470fa8d51ef795b93ccbec181d0ddcbc84736ac54...        0x6e6d   \n",
       " \n",
       "    Coste en wei  Duración  \n",
       " 0      0.000707      5146  ,\n",
       " 'boba':                                          Transacción Gas utilizado  \\\n",
       " 0  0x71fe7e478ec2aac05a0f246a98da2bfe048eb766c043...        0x8f72   \n",
       " \n",
       "    Coste en wei  Duración  \n",
       " 0      0.000037      2396  ,\n",
       " 'goerli':                                          Transacción Gas utilizado  \\\n",
       " 0  0x5977333d235ed70ae06d35a0edd552e436a025838a3e...        0x7895   \n",
       " \n",
       "    Coste en wei  Duración  \n",
       " 0  2.531200e-12     13020  }"
      ]
     },
     "execution_count": 2,
     "metadata": {},
     "output_type": "execute_result"
    }
   ],
   "source": [
    "datasets_resumen"
   ]
  },
  {
   "cell_type": "markdown",
   "metadata": {},
   "source": [
    "<section id=\"etherscan\">\n",
    "  <h2>Etherscan Datasets</h2>\n",
    "\n",
    "</section>"
   ]
  },
  {
   "cell_type": "markdown",
   "metadata": {},
   "source": [
    "Importamos los datastes de ethercan y creamos un diccionario llamado datasets_scan que contiene los datos anteriormente importandos"
   ]
  },
  {
   "cell_type": "code",
   "execution_count": 3,
   "metadata": {},
   "outputs": [
    {
     "name": "stdout",
     "output_type": "stream",
     "text": [
      "Los siguientes DataFrames se han creado:\n",
      "scan_arbitrum\n",
      "scan_avalanche\n",
      "scan_boba\n",
      "scan_celo\n",
      "scan_goerli\n",
      "scan_optimism\n",
      "scan_sepolia\n"
     ]
    }
   ],
   "source": [
    "import pandas as pd\n",
    "import os\n",
    "\n",
    "# Crear un diccionario vacío para almacenar los DataFrames\n",
    "datasets_scan = {}\n",
    "\n",
    "# Obtener los archivos CSV en todas las subcarpetas que contengan '_secuencial' en su nombre\n",
    "csv_files = []\n",
    "for root, dirs, files in os.walk('datos/scan/'):\n",
    "    for f in files:\n",
    "        if 'scan' in f and f.endswith('.csv'):\n",
    "            csv_file_path = os.path.join(root, f)\n",
    "            name = os.path.splitext(os.path.basename(csv_file_path))[0]\n",
    "            df = pd.read_csv(csv_file_path)\n",
    "            vars()[name] = df\n",
    "            datasets_scan[name] = df\n",
    "\n",
    "# Imprimir los nombres de los DataFrames creados\n",
    "print(\"Los siguientes DataFrames se han creado:\")\n",
    "for var_name in sorted(datasets_scan.keys()):\n",
    "    print(var_name)\n"
   ]
  },
  {
   "cell_type": "markdown",
   "metadata": {},
   "source": [
    "#### Visualizamos el tipo de datos que contiene etherscan"
   ]
  },
  {
   "cell_type": "code",
   "execution_count": 4,
   "metadata": {},
   "outputs": [
    {
     "name": "stdout",
     "output_type": "stream",
     "text": [
      "Los siguientes DataFrames se han creado:\n",
      "scan_arbitrum\n",
      "<class 'pandas.core.frame.DataFrame'>\n",
      "Index: 117 entries, 0x60fefc9d415057be9422701b7b470afef223402020fdbcb9f642f5399294debf to 0xb98ba76b2aa7a6237947cf677e13d9a4f265c2d38b912dfca57d20c87b463101\n",
      "Data columns (total 17 columns):\n",
      " #   Column                 Non-Null Count  Dtype  \n",
      "---  ------                 --------------  -----  \n",
      " 0   Txhash                 117 non-null    int64  \n",
      " 1   Blockno                117 non-null    int64  \n",
      " 2   UnixTimestamp          117 non-null    object \n",
      " 3   DateTime               117 non-null    object \n",
      " 4   From                   106 non-null    object \n",
      " 5   To                     11 non-null     object \n",
      " 6   ContractAddress        117 non-null    float64\n",
      " 7   Value_IN(ETH)          117 non-null    int64  \n",
      " 8   Value_OUT(ETH)         117 non-null    float64\n",
      " 9   CurrentValue @ $0/Eth  117 non-null    float64\n",
      " 10  TxnFee(ETH)            117 non-null    float64\n",
      " 11  TxnFee(USD)            115 non-null    float64\n",
      " 12  Historical $Price/ETH  2 non-null      object \n",
      " 13  Status                 2 non-null      object \n",
      " 14  ErrCode                117 non-null    object \n",
      " 15  Method                 0 non-null      float64\n",
      " 16  index_col              117 non-null    object \n",
      "dtypes: float64(6), int64(3), object(8)\n",
      "memory usage: 16.5+ KB\n",
      "scan_avalanche\n",
      "<class 'pandas.core.frame.DataFrame'>\n",
      "Index: 83 entries, 0x24cd4afbf8c0f52567f806d859206d33c97c4b81b50ae00e21c76affcb63c630 to 0x28d0e0d45fd15719a80219c07bc913f776edd7430cd58abe61276dab0f89f37e\n",
      "Data columns (total 17 columns):\n",
      " #   Column                  Non-Null Count  Dtype  \n",
      "---  ------                  --------------  -----  \n",
      " 0   Txhash                  83 non-null     int64  \n",
      " 1   Blockno                 83 non-null     int64  \n",
      " 2   UnixTimestamp           83 non-null     object \n",
      " 3   DateTime                83 non-null     object \n",
      " 4   From                    78 non-null     object \n",
      " 5   To                      5 non-null      object \n",
      " 6   ContractAddress         83 non-null     float64\n",
      " 7   Value_IN(AVAX)          83 non-null     float64\n",
      " 8   Value_OUT(AVAX)         83 non-null     float64\n",
      " 9   CurrentValue @ $0/Eth   83 non-null     float64\n",
      " 10  TxnFee(AVAX)            83 non-null     float64\n",
      " 11  TxnFee(USD)             81 non-null     float64\n",
      " 12  Historical $Price/AVAX  0 non-null      float64\n",
      " 13  Status                  0 non-null      float64\n",
      " 14  ErrCode                 83 non-null     object \n",
      " 15  Method                  0 non-null      float64\n",
      " 16  index_col               83 non-null     object \n",
      "dtypes: float64(9), int64(2), object(6)\n",
      "memory usage: 11.7+ KB\n",
      "scan_boba\n",
      "<class 'pandas.core.frame.DataFrame'>\n",
      "Index: 181 entries, 0x3490d7d03388958c0e257936095b20363b41abd72f42eff8772d8aa118a69a9f to 0x71fe7e478ec2aac05a0f246a98da2bfe048eb766c043dd75b806d3c4245d31c3\n",
      "Data columns (total 17 columns):\n",
      " #   Column                 Non-Null Count  Dtype  \n",
      "---  ------                 --------------  -----  \n",
      " 0   Txhash                 181 non-null    int64  \n",
      " 1   Blockno                181 non-null    int64  \n",
      " 2   UnixTimestamp          181 non-null    object \n",
      " 3   DateTime               181 non-null    object \n",
      " 4   From                   171 non-null    object \n",
      " 5   To                     10 non-null     object \n",
      " 6   ContractAddress        181 non-null    float64\n",
      " 7   Value_IN(ETH)          181 non-null    int64  \n",
      " 8   Value_OUT(ETH)         181 non-null    int64  \n",
      " 9   CurrentValue @ $0/Eth  181 non-null    float64\n",
      " 10  TxnFee(ETH/Boba)       181 non-null    int64  \n",
      " 11  TxnFee(USD)            0 non-null      float64\n",
      " 12  Historical $Price/Eth  0 non-null      float64\n",
      " 13  Status                 0 non-null      float64\n",
      " 14  ErrCode                181 non-null    object \n",
      " 15  Method                 0 non-null      float64\n",
      " 16  index_col              181 non-null    object \n",
      "dtypes: float64(6), int64(5), object(6)\n",
      "memory usage: 25.5+ KB\n",
      "scan_celo\n",
      "<class 'pandas.core.frame.DataFrame'>\n",
      "Index: 56 entries, 0x20ecffa91082ba63f0a188dca44018b708a49d614c0a7cdbe7f24ecb1eb107dc to 0x488470fa8d51ef795b93ccbec181d0ddcbc84736ac54d2a42f594d59a2459e2e\n",
      "Data columns (total 17 columns):\n",
      " #   Column                  Non-Null Count  Dtype  \n",
      "---  ------                  --------------  -----  \n",
      " 0   Txhash                  56 non-null     int64  \n",
      " 1   Blockno                 56 non-null     int64  \n",
      " 2   UnixTimestamp           56 non-null     object \n",
      " 3   DateTime                56 non-null     object \n",
      " 4   From                    52 non-null     object \n",
      " 5   To                      4 non-null      object \n",
      " 6   ContractAddress         56 non-null     float64\n",
      " 7   Value_IN(CELO)          56 non-null     int64  \n",
      " 8   Value_OUT(CELO)         56 non-null     float64\n",
      " 9   CurrentValue @ $0/Eth   56 non-null     float64\n",
      " 10  TxnFee(CELO)            56 non-null     float64\n",
      " 11  TxnFee(USD)             54 non-null     float64\n",
      " 12  Historical $Price/CELO  0 non-null      float64\n",
      " 13  Status                  0 non-null      float64\n",
      " 14  ErrCode                 56 non-null     object \n",
      " 15  Method                  0 non-null      float64\n",
      " 16  index_col               56 non-null     object \n",
      "dtypes: float64(8), int64(3), object(6)\n",
      "memory usage: 7.9+ KB\n",
      "scan_goerli\n",
      "<class 'pandas.core.frame.DataFrame'>\n",
      "Index: 53 entries, 0x7c47adafe7fda59be432ad055b1684e603cbd904dfc6daaa024d3af0d49aff13 to 0xb19ee428df955e0da32adc97e940331cd47ac3b09f8ead166b24136e86762d9b\n",
      "Data columns (total 17 columns):\n",
      " #   Column                 Non-Null Count  Dtype  \n",
      "---  ------                 --------------  -----  \n",
      " 0   Txhash                 53 non-null     int64  \n",
      " 1   Blockno                53 non-null     int64  \n",
      " 2   UnixTimestamp          53 non-null     object \n",
      " 3   DateTime               53 non-null     object \n",
      " 4   From                   45 non-null     object \n",
      " 5   To                     8 non-null      object \n",
      " 6   ContractAddress        53 non-null     float64\n",
      " 7   Value_IN(ETH)          53 non-null     float64\n",
      " 8   Value_OUT(ETH)         53 non-null     int64  \n",
      " 9   CurrentValue @ $0/Eth  53 non-null     float64\n",
      " 10  TxnFee(ETH)            53 non-null     int64  \n",
      " 11  TxnFee(USD)            0 non-null      float64\n",
      " 12  Historical $Price/Eth  4 non-null      object \n",
      " 13  Status                 4 non-null      object \n",
      " 14  ErrCode                53 non-null     object \n",
      " 15  Method                 0 non-null      float64\n",
      " 16  index_col              53 non-null     object \n",
      "dtypes: float64(5), int64(4), object(8)\n",
      "memory usage: 7.5+ KB\n",
      "scan_optimism\n",
      "<class 'pandas.core.frame.DataFrame'>\n",
      "Index: 157 entries, 0x0eaa54a3fc2bcc3cb1fab12ce99ca36eddc4dce64bcaf874558a6cd2a8a1862e to 0x36f8c38db92a0fa37ab1f6a6f6cac044540bcf2ab845629859235b6f5dfbc843\n",
      "Data columns (total 17 columns):\n",
      " #   Column                 Non-Null Count  Dtype  \n",
      "---  ------                 --------------  -----  \n",
      " 0   Txhash                 157 non-null    int64  \n",
      " 1   Blockno                157 non-null    int64  \n",
      " 2   UnixTimestamp          157 non-null    object \n",
      " 3   DateTime               157 non-null    object \n",
      " 4   From                   139 non-null    object \n",
      " 5   To                     18 non-null     object \n",
      " 6   ContractAddress        157 non-null    float64\n",
      " 7   Value_IN(ETH)          157 non-null    int64  \n",
      " 8   Value_OUT(ETH)         157 non-null    int64  \n",
      " 9   CurrentValue @ $0/Eth  157 non-null    float64\n",
      " 10  TxnFee(ETH)            157 non-null    int64  \n",
      " 11  TxnFee(USD)            0 non-null      float64\n",
      " 12  Historical $Price/Eth  3 non-null      object \n",
      " 13  Status                 3 non-null      object \n",
      " 14  ErrCode                157 non-null    object \n",
      " 15  Method                 0 non-null      float64\n",
      " 16  index_col              157 non-null    object \n",
      "dtypes: float64(4), int64(5), object(8)\n",
      "memory usage: 22.1+ KB\n",
      "scan_sepolia\n",
      "<class 'pandas.core.frame.DataFrame'>\n",
      "Index: 273 entries, 0x2ba958925512bc001ad998db5d7323deb4009f536bd01685ac40f193382db6bf to 0x5c89f0a3c1ba1b723fcbd1953525b7c978e49888155d3228678f6c5f788d9b9c\n",
      "Data columns (total 17 columns):\n",
      " #   Column                 Non-Null Count  Dtype  \n",
      "---  ------                 --------------  -----  \n",
      " 0   Txhash                 273 non-null    int64  \n",
      " 1   Blockno                273 non-null    int64  \n",
      " 2   UnixTimestamp          273 non-null    object \n",
      " 3   DateTime               273 non-null    object \n",
      " 4   From                   258 non-null    object \n",
      " 5   To                     15 non-null     object \n",
      " 6   ContractAddress        273 non-null    float64\n",
      " 7   Value_IN(ETH)          273 non-null    int64  \n",
      " 8   Value_OUT(ETH)         273 non-null    int64  \n",
      " 9   CurrentValue @ $0/Eth  273 non-null    float64\n",
      " 10  TxnFee(ETH)            273 non-null    int64  \n",
      " 11  TxnFee(USD)            0 non-null      float64\n",
      " 12  Historical $Price/Eth  3 non-null      object \n",
      " 13  Status                 3 non-null      object \n",
      " 14  ErrCode                273 non-null    object \n",
      " 15  Method                 0 non-null      float64\n",
      " 16  index_col              273 non-null    object \n",
      "dtypes: float64(4), int64(5), object(8)\n",
      "memory usage: 38.4+ KB\n"
     ]
    }
   ],
   "source": [
    "# Imprimir los nombres de las variables creadas que contengan \"scan\"\n",
    "print(\"Los siguientes DataFrames se han creado:\")\n",
    "for var in sorted(datasets_scan.keys()):\n",
    "    if 'scan' in var:\n",
    "        print(var)\n",
    "\n",
    "        # Acceder a cada DataFrame y asignar el índice a la columna \"index_col\"\n",
    "        datasets_scan[var]['index_col'] = datasets_scan[var].index\n",
    "        datasets_scan[var].info()"
   ]
  },
  {
   "cell_type": "code",
   "execution_count": 5,
   "metadata": {},
   "outputs": [
    {
     "data": {
      "text/plain": [
       "0x2ba958925512bc001ad998db5d7323deb4009f536bd01685ac40f193382db6bf    0.004907\n",
       "0xaf2d1770d56bbff3511de38d8d46563535771d0bacc368019b0f4cb0ced09329    0.004907\n",
       "0xcea1652e870fdd411c4a032a4c6357f4436c4e20a53095795013db0c09a2b90d    0.004907\n",
       "0x062a7eb4b937dedeaaf052b483aad1709f893ff08fb6fa846b7e2bbf402d9c9b    0.004907\n",
       "0x6ef5523d2706e7fce4240f88c99e52d857002405225b154d08a6f32cf3033d28    0.004907\n",
       "                                                                        ...   \n",
       "0x2b2abe3fcd305ba146c2e9649e220d07fc8d072da0f73839c0450aefe9af5126    0.000164\n",
       "0x0a35f6ef1a9d96b5ee256e347e68c2e56546393e020f9b7de15dc68e8de921e3    0.000224\n",
       "0xe9bbf8f437e3ded657c5fa023330f4a4dadbb2774414ae0d1e072a5c74d1bf3b    0.000187\n",
       "0x6ddaba4ab985fa88ad834535acdc18582032e823720587b78802da5874e30d23    0.067051\n",
       "0x5c89f0a3c1ba1b723fcbd1953525b7c978e49888155d3228678f6c5f788d9b9c    0.000926\n",
       "Name: CurrentValue @ $0/Eth, Length: 273, dtype: float64"
      ]
     },
     "execution_count": 5,
     "metadata": {},
     "output_type": "execute_result"
    }
   ],
   "source": [
    "scan_sepolia['CurrentValue @ $0/Eth']"
   ]
  },
  {
   "cell_type": "code",
   "execution_count": 6,
   "metadata": {},
   "outputs": [
    {
     "data": {
      "text/plain": [
       "0x20ecffa91082ba63f0a188dca44018b708a49d614c0a7cdbe7f24ecb1eb107dc    0.000137\n",
       "0xc0d946c7622cbd3c00dab4f7e2dcad2762d0551f5df60d5fa99911d9df7175b2    0.058074\n",
       "0x0128ffcdef3e97af015d01c6f845a8a846447b7108cfc681f56d2865333eda08    0.053620\n",
       "0xd79e7e2e53cc1f6f1fb13a8c36893aceaf3b7a90d2fab2dbaee9553fe089ded3    0.001639\n",
       "0x030a747d12f8b9d7ad7c8a0bbdac807e1a7dd0ebdb57af9b18e9f9bd54e2f10f    0.001640\n",
       "0xeb4c2d9130d47eafe2ee9f0601a9bd1114f75702def331c1ca78125262e20e03    0.001640\n",
       "0xf5e2695ed79dc4bf95d3cdd97f0d1af031c3fa42f96e6f737a1bc3ed89ab761d    0.001245\n",
       "0x2c1c385761d3b85eb6ced76c0580b473e93a87882979a744899421bb83d2b359    0.001245\n",
       "0x7a3e08ca5ab86f4625748b27f3bc5b5f9c7b1332d997ba055046fb3b3778f865    0.001245\n",
       "0x5744eb486659101d6dc42eb629b35c8b8b685a20aec8ec6b62323b071b11c3af    0.001245\n",
       "0x175b6b51be7d03daa788d8d6eadb2055a6e6964225b640a2c77e2511471e9f8b    0.001245\n",
       "0x83507b13b26f217486e6efc72d79dbd63ed7f43bae81db09529fc90aafc8550b    0.001245\n",
       "0xd2fd5bf4b45dd3eaf70815883a929c0007fa729f6e7291f9089b501c09bb0223    0.001245\n",
       "0x4820e281eae9649f032198e5b3ef0f6d6c4b62373ca16d939725798a1c31077f    0.001245\n",
       "0x4f82e787fe222d2e3e9f6a152bf028cf58f4d7f266b9c85af55a9b7324cb2354    0.001245\n",
       "0x4bb52ca1607de5bda54688158450cb597a79150df0a3efdd31b5e2768550c8e4    0.000634\n",
       "0x4dfa6448698324713b8fc5c3c5899d6fecb1fddb65e7dfe247af16f8f9c97e46    0.000634\n",
       "0x2102f323f0ac68abec0daae7c482e384469109a22db76401087db9c9a4503df7    0.000634\n",
       "0x0ba1450733f6eb381f893ebcaf4c779faf648ac4a0bf645c0e6b45cf94d6e803    0.000634\n",
       "0x3f0af62ee34868b32a58d5805e20913d81df6edc314c0f2a433d555ceea42e62    0.000634\n",
       "0xb7b81c2ccdd10be816b40f9f79d9bc92de9f27979245be74c78050e0fdec5ec1    0.000634\n",
       "0x5f07698b59d43905682f97747ef2d694d8886b9b1209c8c53649afc1b253be56    0.000634\n",
       "0xe43d1815712323d0443159c179d84725860463665383c2b6133bd142d9acca83    0.000634\n",
       "0xec3ebcc535b322f45cc2a5dc59b3a895257776d26afee94ecf681be8d86e9a5b    0.000634\n",
       "0x6e7a540470995a096461e350d366aebbc37c28f415e2dae02031e929ff3f7a08    0.000634\n",
       "0xefd66e47c36d7274f11913850ce10c8d67450059783548c83cb7a1a350180d89    0.000634\n",
       "0xab3ddf4cca6ea6e471c60a8234e33459b3294a345e5182ae118ac7dad42f0c09    0.000634\n",
       "0x39b1b977928caa711b1e5d8f4d54daacf7cbff126aeab82265e0d6bc838006ae    0.000707\n",
       "0x59e9d42590291247cced659f97548e33b55e3d2f022056c16cf9e63368bdfd74    0.053620\n",
       "0xe79cc1b597e0d433df68bed4c91948b3f314354330c3a4847edb6b3591b6a72f    0.001245\n",
       "0xcd013470930c7f0d9f8654bd66b8fdf66f19027330599b6928b870e569f4d7d8    0.001245\n",
       "0x4e9ea450c3777a740c195297b148cdfc58b0d36bd14df870ae2e3916f230e967    0.001245\n",
       "0x56df3529951b0f4ce72d1ec751f2fa8ce4041cc547453edf563809a991008c93    0.001640\n",
       "0x9226902ebb610422c9dff0caddcd0c892f47f2b39ec68215342fb8d1a58790d9    0.001245\n",
       "0xb836bd735d03d73755e8249bf4e5c6e422dbbb24b2e40078b6ff7cf79c45ab89    0.001245\n",
       "0xb55c225922071b6f520b421a395fea0afe2caab1d4da809e68053051ff8eccd0    0.001640\n",
       "0xef650c5af1b5d81ad840125a2686078462012acae19f9a8eaba370c42eee76ec    0.001245\n",
       "0x2a083f0e75625639683e135356b92c1f2f4dc09a8270c24f5971c3db82c29dc8    0.001639\n",
       "0xf99af10e955f011c649588079a4feb6b843d26607d5eb4b02be3500c7eca5ed3    0.001245\n",
       "0xafd5a9fa6fab62386afd9b4eddc4d3bd05d66b2837fb5afba63ea4859d5588a9    0.001245\n",
       "0x41362ad9813bdda40ec2e948fe581b01840923754a1c3411428da9bb96046b17    0.001245\n",
       "0xab4139836fa60df1e693e61d10ce12d18964582e99312cc7914020ee7fbe4783    0.000634\n",
       "0xda70e860e983e23a0244ac792b58ed82a6761fd259aacadccb384c98bd3461bf    0.000634\n",
       "0x9e382bcf97eca8767fff34fc4fb97bd9e38723d753a0545b560e7d2a996571e0    0.000634\n",
       "0xba0a6ea1c64ff355d6e6a7ba52cbe80092733c46c86b397262cf0f2b21f34eb0    0.000634\n",
       "0x045913fd0805709959cca21cf1991af7d51438aaf5fdda7c3aef649def977b60    0.000634\n",
       "0x6045fc8320eeb394304a3c516c3bc58d2e1d7f702203bbe7d56022706ca2fc98    0.000634\n",
       "0xb7a7f063d56ddfb3df13df8b6c98907707f22c9718e25e980c2c4b0378a14c1a    0.000634\n",
       "0x0482c5ce961493c4b66c878d4785e7cd3c3256a18ffe6dd4ebc5c33e98597935    0.000634\n",
       "0x8e3549d2a4377ca089a9a495a18c47303aaf936718b7fe761f88d7ec5733be15    0.000634\n",
       "0xa3aa6ee9bff5ff5998fc18401801433b5b6ac610e5fbe6895b5077450d0656c7    0.000634\n",
       "0xa9b038bf9223fb55207306c2cb0205ddff86c733e4516b33808f339107b36fdc    0.000634\n",
       "0xcc9336380c6b520b5f715fd0411b9f734e6617a85b660eb0caa67e73d487bd03    0.000634\n",
       "0xaf4e6243981db4b769fcba86fb02bafb2f917aff7e54d022317e19e8eb38a802    0.000707\n",
       "0x182d1aaf55bfb2ba522ede8be5691781162fac3aec58dd1b35106e6f1073945c    0.053620\n",
       "0x488470fa8d51ef795b93ccbec181d0ddcbc84736ac54d2a42f594d59a2459e2e    0.000707\n",
       "Name: CurrentValue @ $0/Eth, dtype: float64"
      ]
     },
     "execution_count": 6,
     "metadata": {},
     "output_type": "execute_result"
    }
   ],
   "source": [
    "scan_celo['CurrentValue @ $0/Eth']"
   ]
  },
  {
   "cell_type": "markdown",
   "metadata": {},
   "source": [
    "# Procesamos los datos"
   ]
  },
  {
   "cell_type": "markdown",
   "metadata": {},
   "source": [
    "<section id=\"modificacion-wei\">\n",
    "  <h2>Modificación de la columna Coste en wei</h2>\n",
    "\n",
    "</section>"
   ]
  },
  {
   "cell_type": "markdown",
   "metadata": {},
   "source": [
    "Creamos una lista llamada formatted_transactions que contiene los hashes de las operaciones que hemos realizado. Estos hashes se obtienen de los datasets de datos que se encuentran dentro de datasets_resumen"
   ]
  },
  {
   "cell_type": "code",
   "execution_count": 7,
   "metadata": {},
   "outputs": [],
   "source": [
    "# Crear una lista con todas las transacciones formateadas como cadenas\n",
    "formatted_transactions = []\n",
    "for dataset in datasets_resumen.values():\n",
    "    transacciones = [valor for valor in dataset['Transacción']]\n",
    "    formatted_transactions += [str(valor)[:-1] for valor in transacciones]\n"
   ]
  },
  {
   "cell_type": "code",
   "execution_count": 8,
   "metadata": {},
   "outputs": [
    {
     "data": {
      "text/plain": [
       "7"
      ]
     },
     "execution_count": 8,
     "metadata": {},
     "output_type": "execute_result"
    }
   ],
   "source": [
    "len(formatted_transactions)"
   ]
  },
  {
   "cell_type": "markdown",
   "metadata": {},
   "source": [
    "Creamos un nuevo dataframe llamado df que contiene los hashes de las transacciones que coinciden con las de formatted_transactions y guardamos el valor de CurrentValue @ $0/Eth que indica el coste de la transacción. A su vez también se crea una nueva columna llamada index_col que guarda la dirección del hash"
   ]
  },
  {
   "cell_type": "code",
   "execution_count": 9,
   "metadata": {},
   "outputs": [
    {
     "name": "stdout",
     "output_type": "stream",
     "text": [
      "<class 'pandas.core.frame.DataFrame'>\n",
      "Index: 7 entries, 0xb98ba76b2aa7a6237947cf677e13d9a4f265c2d38b912dfca57d20c87b463101 to 0x5977333d235ed70ae06d35a0edd552e436a025838a3e892ca8d6cbaf6813892f\n",
      "Data columns (total 2 columns):\n",
      " #   Column                 Non-Null Count  Dtype  \n",
      "---  ------                 --------------  -----  \n",
      " 0   index_col              7 non-null      object \n",
      " 1   CurrentValue @ $0/Eth  7 non-null      float64\n",
      "dtypes: float64(1), object(1)\n",
      "memory usage: 168.0+ bytes\n",
      "None\n"
     ]
    }
   ],
   "source": [
    "import pandas as pd\n",
    "\n",
    "# Crear un DataFrame vacío para almacenar los DataFrames filtrados concatenados\n",
    "df = pd.DataFrame()\n",
    "\n",
    "# Iterar sobre las direcciones\n",
    "for direccion in formatted_transactions:\n",
    "    # Buscar en los datasets que empiezan con 'scan_' y contienen la dirección actual\n",
    "    dataframes_direccion = [datasets_scan[k][datasets_scan[k]['index_col'] == direccion][['index_col', 'CurrentValue @ $0/Eth']] for k in datasets_scan.keys() if k.startswith('scan_')]\n",
    "\n",
    "    # Concatenar los DataFrames filtrados en un solo DataFrame\n",
    "    df = pd.concat([df] + dataframes_direccion)\n",
    "\n",
    "# Imprimir información sobre el DataFrame concatenado resultante\n",
    "print(df.info())\n"
   ]
  },
  {
   "cell_type": "markdown",
   "metadata": {},
   "source": [
    "Vemos la longitud del dataframe df. En este caso deberia de ser 12 * el numero de etherscan que se hayan cargado"
   ]
  },
  {
   "cell_type": "code",
   "execution_count": 10,
   "metadata": {},
   "outputs": [
    {
     "name": "stdout",
     "output_type": "stream",
     "text": [
      "7\n"
     ]
    }
   ],
   "source": [
    "# Imprimir la longitud del DataFrame\n",
    "print(len(df))\n",
    "\n"
   ]
  },
  {
   "cell_type": "markdown",
   "metadata": {},
   "source": [
    "A continuación, vemos que valores de la columna index_col de df coinciden con la columna Transacción de los datasets de datos. Los que coincidan se sustituirá el valor de Coste en wei por el de CurrentValue @ $0/Eth que es el correcto"
   ]
  },
  {
   "cell_type": "code",
   "execution_count": 11,
   "metadata": {},
   "outputs": [
    {
     "data": {
      "text/plain": [
       "0    0.000003\n",
       "Name: Coste en wei, dtype: float64"
      ]
     },
     "execution_count": 11,
     "metadata": {},
     "output_type": "execute_result"
    }
   ],
   "source": [
    "arbitrum_eliminar_resumen3['Coste en wei']"
   ]
  },
  {
   "cell_type": "code",
   "execution_count": 12,
   "metadata": {},
   "outputs": [],
   "source": [
    "# Iterar sobre los DataFrames en el diccionario `datasets_resumen`\n",
    "for k, df_resumen in datasets_resumen.items():\n",
    "    # Iterar sobre las transacciones en el DataFrame `df`\n",
    "    for index, row in df.iterrows():\n",
    "        # Obtener la dirección de la transacción actual\n",
    "        direccion = row['index_col']\n",
    "        # Añadimos : para que sea igual a las transacciones de los datos\n",
    "        direccion = row['index_col'] + \":\"\n",
    "\n",
    "        # Obtener el valor de la transacción actual\n",
    "        valor = row['CurrentValue @ $0/Eth']\n",
    "        # Buscar si la dirección de la transacción actual coincide con la columna \"Transacción\" del DataFrame del diccionario `datasets_resumen`\n",
    "        mask = df_resumen['Transacción'] == direccion\n",
    "        # Si hay una coincidencia, establecer el valor de \"Coste en wei\" en el valor de la transacción actual\n",
    "        if mask.any():\n",
    "            df_resumen.loc[mask, 'Coste en wei'] = valor"
   ]
  },
  {
   "cell_type": "code",
   "execution_count": 13,
   "metadata": {},
   "outputs": [
    {
     "data": {
      "text/plain": [
       "0    0.000031\n",
       "Name: Coste en wei, dtype: float64"
      ]
     },
     "execution_count": 13,
     "metadata": {},
     "output_type": "execute_result"
    }
   ],
   "source": [
    "arbitrum_eliminar_resumen3['Coste en wei']"
   ]
  },
  {
   "cell_type": "code",
   "execution_count": 14,
   "metadata": {
    "scrolled": true
   },
   "outputs": [
    {
     "data": {
      "text/html": [
       "<div>\n",
       "<style scoped>\n",
       "    .dataframe tbody tr th:only-of-type {\n",
       "        vertical-align: middle;\n",
       "    }\n",
       "\n",
       "    .dataframe tbody tr th {\n",
       "        vertical-align: top;\n",
       "    }\n",
       "\n",
       "    .dataframe thead th {\n",
       "        text-align: right;\n",
       "    }\n",
       "</style>\n",
       "<table border=\"1\" class=\"dataframe\">\n",
       "  <thead>\n",
       "    <tr style=\"text-align: right;\">\n",
       "      <th></th>\n",
       "      <th>Transacción</th>\n",
       "      <th>Gas utilizado</th>\n",
       "      <th>Coste en wei</th>\n",
       "      <th>Duración</th>\n",
       "    </tr>\n",
       "  </thead>\n",
       "  <tbody>\n",
       "    <tr>\n",
       "      <th>0</th>\n",
       "      <td>0x5977333d235ed70ae06d35a0edd552e436a025838a3e...</td>\n",
       "      <td>0x7895</td>\n",
       "      <td>0.000772</td>\n",
       "      <td>13020</td>\n",
       "    </tr>\n",
       "  </tbody>\n",
       "</table>\n",
       "</div>"
      ],
      "text/plain": [
       "                                         Transacción Gas utilizado  \\\n",
       "0  0x5977333d235ed70ae06d35a0edd552e436a025838a3e...        0x7895   \n",
       "\n",
       "   Coste en wei  Duración  \n",
       "0      0.000772     13020  "
      ]
     },
     "execution_count": 14,
     "metadata": {},
     "output_type": "execute_result"
    }
   ],
   "source": [
    "goerli_eliminar_resumen3"
   ]
  },
  {
   "cell_type": "code",
   "execution_count": 16,
   "metadata": {},
   "outputs": [
    {
     "name": "stdout",
     "output_type": "stream",
     "text": [
      "Los siguientes datasets se han creado:\n",
      "arbitrum_eliminar_resumen3\n",
      "optimism_eliminar_resumen3\n",
      "avalanche_eliminar_resumen3\n",
      "sepolia_eliminar_resumen3\n",
      "celo_eliminar_resumen3\n",
      "boba_eliminar_resumen3\n",
      "goerli_eliminar_resumen3\n"
     ]
    }
   ],
   "source": [
    "import os\n",
    "\n",
    "# Obtener la lista de carpetas en la carpeta datos/secuencial/\n",
    "carpetas = [f for f in os.listdir('datos/eliminar/') if os.path.isdir(os.path.join('datos/eliminar/', f))]\n",
    "\n",
    "# Crear una lista para almacenar los nombres de los datasets\n",
    "datasets = []\n",
    "\n",
    "# Leer cada archivo CSV en cada carpeta y agregarlo a la lista datasets si termina en \"_datos.csv\"\n",
    "for carpeta in carpetas:\n",
    "    csv_files = [f for f in os.listdir(os.path.join('datos/eliminar/', carpeta)) if f.endswith('_eliminar_resumen3.csv')]\n",
    "    for f in csv_files:\n",
    "        datasets.append(os.path.splitext(f)[0])\n",
    "\n",
    "# Imprimir los nombres de los datasets creados\n",
    "print(\"Los siguientes datasets se han creado:\")\n",
    "for dataset in datasets:\n",
    "    print(dataset)\n"
   ]
  },
  {
   "cell_type": "markdown",
   "metadata": {},
   "source": [
    "\n",
    "<section id=\"conversion-hex-dec\">\n",
    "  <h2>Conversión de hexadecimal a decimal Gas utilizado</h2>\n",
    "\n",
    "</section>\n"
   ]
  },
  {
   "cell_type": "code",
   "execution_count": 17,
   "metadata": {
    "scrolled": true
   },
   "outputs": [
    {
     "name": "stdout",
     "output_type": "stream",
     "text": [
      "                                         Transacción  Gas utilizado  \\\n",
      "0  0xb98ba76b2aa7a6237947cf677e13d9a4f265c2d38b91...          30869   \n",
      "\n",
      "   Coste en wei  Duración  \n",
      "0      0.000031      2962  \n",
      "                                         Transacción  Gas utilizado  \\\n",
      "0  0x9cbbb3c01632e8a6924caba42117513952665b586be8...          30869   \n",
      "\n",
      "   Coste en wei  Duración  \n",
      "0      0.000772      6792  \n",
      "                                         Transacción  Gas utilizado  \\\n",
      "0  0x28d0e0d45fd15719a80219c07bc913f776edd7430cd5...          30869   \n",
      "\n",
      "   Coste en wei  Duración  \n",
      "0       0.00108      7857  \n",
      "                                         Transacción  Gas utilizado  \\\n",
      "0  0x5c89f0a3c1ba1b723fcbd1953525b7c978e49888155d...          30869   \n",
      "\n",
      "   Coste en wei  Duración  \n",
      "0      0.000926     13306  \n",
      "                                         Transacción  Gas utilizado  \\\n",
      "0  0x488470fa8d51ef795b93ccbec181d0ddcbc84736ac54...          28269   \n",
      "\n",
      "   Coste en wei  Duración  \n",
      "0      0.000707      5146  \n",
      "                                         Transacción  Gas utilizado  \\\n",
      "0  0x71fe7e478ec2aac05a0f246a98da2bfe048eb766c043...          36722   \n",
      "\n",
      "   Coste en wei  Duración  \n",
      "0      0.000037      2396  \n",
      "                                         Transacción  Gas utilizado  \\\n",
      "0  0x5977333d235ed70ae06d35a0edd552e436a025838a3e...          30869   \n",
      "\n",
      "   Coste en wei  Duración  \n",
      "0      0.000772     13020  \n"
     ]
    }
   ],
   "source": [
    "#Gas utilizado \n",
    "import pandas as pd\n",
    "\n",
    "def hex_to_dec(datos):\n",
    "    # Convierte la columna \"Gas utilizado\" de hexadecimal a decimal\n",
    "    datos[\"Gas utilizado\"] = datos[\"Gas utilizado\"].apply(lambda x: int(x, 16))\n",
    "    \n",
    "    # Devuelve el DataFrame modificado\n",
    "    return datos\n",
    "\n",
    "\n",
    "# Iterar sobre la lista de nombres de datasets\n",
    "for dataset in datasets:\n",
    "    # Aplicar la función a la columna \"Gas utilizado\" del DataFrame\n",
    "    globals()[dataset] = hex_to_dec(globals()[dataset])\n",
    "    \n",
    "    # Imprimir el DataFrame resultante\n",
    "    print(globals()[dataset].head())\n"
   ]
  },
  {
   "cell_type": "markdown",
   "metadata": {},
   "source": [
    "<section id=\"creacion-dolares\">\n",
    "  <h2>Creación de una columna para dolares</h2>\n",
    "\n",
    "</section>"
   ]
  },
  {
   "cell_type": "code",
   "execution_count": 18,
   "metadata": {},
   "outputs": [
    {
     "name": "stdout",
     "output_type": "stream",
     "text": [
      "                                         Transacción  Gas utilizado  \\\n",
      "0  0xb98ba76b2aa7a6237947cf677e13d9a4f265c2d38b91...          30869   \n",
      "\n",
      "   Coste en wei  Duración  Coste en dólares  \n",
      "0      0.000031      2962          0.058775  \n",
      "                                         Transacción  Gas utilizado  \\\n",
      "0  0x9cbbb3c01632e8a6924caba42117513952665b586be8...          30869   \n",
      "\n",
      "   Coste en wei  Duración  Coste en dólares  \n",
      "0      0.000772      6792          1.469364  \n",
      "                                         Transacción  Gas utilizado  \\\n",
      "0  0x28d0e0d45fd15719a80219c07bc913f776edd7430cd5...          30869   \n",
      "\n",
      "   Coste en wei  Duración  Coste en dólares  \n",
      "0       0.00108      7857          0.023769  \n",
      "                                         Transacción  Gas utilizado  \\\n",
      "0  0x5c89f0a3c1ba1b723fcbd1953525b7c978e49888155d...          30869   \n",
      "\n",
      "   Coste en wei  Duración  Coste en dólares  \n",
      "0      0.000926     13306          1.763237  \n",
      "                                         Transacción  Gas utilizado  \\\n",
      "0  0x488470fa8d51ef795b93ccbec181d0ddcbc84736ac54...          28269   \n",
      "\n",
      "   Coste en wei  Duración  Coste en dólares  \n",
      "0      0.000707      5146          0.000671  \n",
      "                                         Transacción  Gas utilizado  \\\n",
      "0  0x71fe7e478ec2aac05a0f246a98da2bfe048eb766c043...          36722   \n",
      "\n",
      "   Coste en wei  Duración  Coste en dólares  \n",
      "0      0.000037      2396          0.069919  \n",
      "                                         Transacción  Gas utilizado  \\\n",
      "0  0x5977333d235ed70ae06d35a0edd552e436a025838a3e...          30869   \n",
      "\n",
      "   Coste en wei  Duración  Coste en dólares  \n",
      "0      0.000772     13020          1.469364  \n"
     ]
    }
   ],
   "source": [
    "import pandas as pd\n",
    "\n",
    "# Definir las constantes de conversión de cada conjunto de datos\n",
    "conversion_constants = {\n",
    "    \"ether\": 1904,\n",
    "    \"celo\": 0.95,\n",
    "    \"avax\": 22\n",
    "}\n",
    "\n",
    "# Definir la función para convertir a dólares\n",
    "def wei_to_usd(datos, constant):\n",
    "    # Agregar la nueva columna \"Coste en dólares\"\n",
    "    datos[\"Coste en dólares\"] = datos[\"Coste en wei\"] * constant\n",
    "\n",
    "    \n",
    "    # Devolver el DataFrame modificado\n",
    "    return datos\n",
    "\n",
    "# Iterar sobre la lista de nombres de datasets\n",
    "for dataset in datasets:\n",
    "    # Obtener la constante correspondiente al conjunto de datos actual\n",
    "    if \"celo\" in dataset:\n",
    "        constant = conversion_constants['celo']\n",
    "    elif \"avalanche\" in dataset:\n",
    "        constant = conversion_constants['avax']\n",
    "    else:\n",
    "        constant = conversion_constants['ether']\n",
    "    \n",
    "    # Aplicar la función de conversión a dólares a la columna \"Coste en wei\"\n",
    "    globals()[dataset] = wei_to_usd(globals()[dataset], constant)\n",
    "    \n",
    "    # Imprimir el DataFrame resultante\n",
    "    print(globals()[dataset].head())\n"
   ]
  },
  {
   "cell_type": "markdown",
   "metadata": {},
   "source": [
    "## Representación"
   ]
  },
  {
   "cell_type": "markdown",
   "metadata": {},
   "source": [
    "<section id=\"representacion-coste-dolar\">\n",
    "  <h2>Representación de Coste en dolares</h2>\n",
    "\n",
    "</section>"
   ]
  },
  {
   "cell_type": "code",
   "execution_count": 19,
   "metadata": {
    "scrolled": true
   },
   "outputs": [
    {
     "data": {
      "image/png": "[encoded data removed]",
      "text/plain": [
       "<Figure size 800x600 with 1 Axes>"
      ]
     },
     "metadata": {},
     "output_type": "display_data"
    }
   ],
   "source": [
    "import matplotlib.pyplot as plt\n",
    "\n",
    "# Configuración del gráfico\n",
    "fig, ax = plt.subplots(figsize=(8, 6))\n",
    "\n",
    "# Crear el gráfico de barras para cada conjunto de datos en datasets_resumen\n",
    "for dataset_name, dataset_values in datasets_resumen.items():\n",
    "    y = dataset_values['Coste en dólares']\n",
    "    ax.bar(dataset_name, y, label=dataset_name)\n",
    "    \n",
    "# Configurar las etiquetas y leyendas del gráfico\n",
    "ax.set_xlabel('Conjunto de datos')\n",
    "ax.set_ylabel('Coste Total (USD)')\n",
    "ax.legend()\n",
    "fig.suptitle('Coste total de transacciones por conjunto de datos')\n",
    "plt.show()\n"
   ]
  },
  {
   "cell_type": "markdown",
   "metadata": {},
   "source": [
    "<section id=\"representacion-coste-duracion-en-dolares\">\n",
    "  <h2>Representación de Coste y la duración en dolares</h2>\n",
    "\n",
    "</section>"
   ]
  },
  {
   "cell_type": "code",
   "execution_count": 20,
   "metadata": {
    "scrolled": false
   },
   "outputs": [
    {
     "data": {
      "image/png": "[encoded data removed]",
      "text/plain": [
       "<Figure size 800x600 with 1 Axes>"
      ]
     },
     "metadata": {},
     "output_type": "display_data"
    }
   ],
   "source": [
    "import matplotlib.pyplot as plt\n",
    "\n",
    "# Configuración del gráfico\n",
    "fig, ax = plt.subplots(figsize=(8, 6))\n",
    "\n",
    "# Crear el gráfico de dispersión para cada conjunto de datos en datasets_resumen\n",
    "for dataset_name, dataset_values in datasets_resumen.items():\n",
    "    x = dataset_values['Duración']\n",
    "    y = dataset_values['Coste en wei']\n",
    "    ax.scatter(x, y, s=60, label=dataset_name)\n",
    "    \n",
    "# Configurar las etiquetas y leyendas del gráfico\n",
    "ax.set_xlabel('Duración  (ms)')\n",
    "ax.set_ylabel('Coste Total (ETH)')\n",
    "ax.legend()\n",
    "fig.suptitle('Relación entre duración y coste total de transacciones')\n",
    "plt.show()"
   ]
  },
  {
   "cell_type": "markdown",
   "metadata": {},
   "source": [
    "<section id=\"representacion-gas-dolares\">\n",
    "  <h2>Representación del gas y coste en dolares</h2>\n",
    "\n",
    "</section>"
   ]
  },
  {
   "cell_type": "code",
   "execution_count": 21,
   "metadata": {},
   "outputs": [
    {
     "data": {
      "image/png": "[encoded data removed]",
      "text/plain": [
       "<Figure size 800x600 with 1 Axes>"
      ]
     },
     "metadata": {},
     "output_type": "display_data"
    }
   ],
   "source": [
    "import matplotlib.pyplot as plt\n",
    "\n",
    "# Configuración del gráfico\n",
    "fig, ax = plt.subplots(figsize=(8, 6))\n",
    "\n",
    "# Crear el gráfico de dispersión para cada conjunto de datos en datasets_resumen\n",
    "for dataset_name, dataset_values in datasets_resumen.items():\n",
    "    x = dataset_values['Coste en dólares']\n",
    "    y = dataset_values['Gas utilizado']\n",
    "    ax.scatter(x, y, s=60, label=dataset_name)\n",
    "    \n",
    "# Configurar las etiquetas y leyendas del gráfico\n",
    "ax.set_xlabel('Coste en dolares')\n",
    "ax.set_ylabel('Gas utilizado')\n",
    "ax.legend()\n",
    "fig.suptitle('Relación entre Coste en dólares y gas utilizado de transacciones')\n",
    "plt.show()\n"
   ]
  }
 ],
 "metadata": {
  "datacleaner": {
   "position": {
    "top": "50px"
   },
   "python": {
    "varRefreshCmd": "try:\n    print(_datacleaner.dataframe_metadata())\nexcept:\n    print([])"
   },
   "window_display": false
  },
  "kernelspec": {
   "display_name": "Python 3 (ipykernel)",
   "language": "python",
   "name": "python3"
  },
  "language_info": {
   "codemirror_mode": {
    "name": "ipython",
    "version": 3
   },
   "file_extension": ".py",
   "mimetype": "text/x-python",
   "name": "python",
   "nbconvert_exporter": "python",
   "pygments_lexer": "ipython3",
   "version": "3.10.9"
  },
  "latex_envs": {
   "LaTeX_envs_menu_present": true,
   "autocomplete": true,
   "bibliofile": "biblio.bib",
   "cite_by": "apalike",
   "current_citInitial": 1,
   "eqLabelWithNumbers": true,
   "eqNumInitial": 1,
   "hotkeys": {
    "equation": "Ctrl-E",
    "itemize": "Ctrl-I"
   },
   "labels_anchors": false,
   "latex_user_defs": false,
   "report_style_numbering": false,
   "user_envs_cfg": false
  }
 },
 "nbformat": 4,
 "nbformat_minor": 1
}
